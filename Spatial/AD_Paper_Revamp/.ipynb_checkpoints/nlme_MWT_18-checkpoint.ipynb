{
 "cells": [
  {
   "cell_type": "code",
   "execution_count": 21,
   "id": "34f638f4-18b4-441c-a22c-c0b18229f8b5",
   "metadata": {},
   "outputs": [],
   "source": [
    "mydata <-read.table(\"MWT.txt\", header = T, sep = \",\")"
   ]
  },
  {
   "cell_type": "code",
   "execution_count": 23,
   "id": "388bdc70-21fc-48ed-9bda-bc4e12fe6a75",
   "metadata": {},
   "outputs": [
    {
     "data": {
      "text/plain": [
       "    subject        day          latency           group      \n",
       " Min.   : 1   Min.   :0.00   Min.   : 5.975   Min.   :1.000  \n",
       " 1st Qu.: 6   1st Qu.:1.75   1st Qu.:13.994   1st Qu.:1.000  \n",
       " Median :12   Median :3.50   Median :21.225   Median :2.000  \n",
       " Mean   :12   Mean   :3.50   Mean   :25.474   Mean   :1.522  \n",
       " 3rd Qu.:18   3rd Qu.:5.25   3rd Qu.:35.581   3rd Qu.:2.000  \n",
       " Max.   :23   Max.   :7.00   Max.   :60.000   Max.   :2.000  "
      ]
     },
     "metadata": {},
     "output_type": "display_data"
    }
   ],
   "source": [
    "summary(mydata)"
   ]
  },
  {
   "cell_type": "code",
   "execution_count": 18,
   "id": "44574c51-4590-4979-a571-65138be2e069",
   "metadata": {},
   "outputs": [],
   "source": [
    "library(nlme)"
   ]
  },
  {
   "cell_type": "code",
   "execution_count": 24,
   "id": "086c7123-6dfe-4254-88c9-1c243fe059fd",
   "metadata": {},
   "outputs": [],
   "source": [
    "mydata$group <-as.factor(mydata$group)"
   ]
  },
  {
   "cell_type": "code",
   "execution_count": 31,
   "id": "9a012e88-dac4-4985-8abd-d2ad7773cb3d",
   "metadata": {},
   "outputs": [],
   "source": [
    "mydatag <-groupedData(latency ~ day | subject, data = mydata)"
   ]
  },
  {
   "cell_type": "code",
   "execution_count": 33,
   "id": "d1a9b057-bf9f-4a29-b0e4-f607a12ce847",
   "metadata": {},
   "outputs": [
    {
     "data": {
      "text/plain": [
       "    subject         day          latency       group \n",
       " 7      :  8   Min.   :0.00   Min.   : 5.975   1:88  \n",
       " 15     :  8   1st Qu.:1.75   1st Qu.:13.994   2:96  \n",
       " 11     :  8   Median :3.50   Median :21.225         \n",
       " 13     :  8   Mean   :3.50   Mean   :25.474         \n",
       " 1      :  8   3rd Qu.:5.25   3rd Qu.:35.581         \n",
       " 3      :  8   Max.   :7.00   Max.   :60.000         \n",
       " (Other):136                                         "
      ]
     },
     "metadata": {},
     "output_type": "display_data"
    }
   ],
   "source": [
    "summary(mydatag)"
   ]
  },
  {
   "cell_type": "code",
   "execution_count": 43,
   "id": "7df7472d-128e-4e97-a171-09b5be7a32ae",
   "metadata": {},
   "outputs": [],
   "source": [
    "myresult <-nlme(latency ~ A * 2^(B * day), fixed = A + B ~ group, random = pdDiag(A + B ~ 1), data = mydatag, start = c(A = 60, B = 0.1, rep(0, 2 * 2-2)))"
   ]
  },
  {
   "cell_type": "code",
   "execution_count": 44,
   "id": "8a89a350-780c-444b-91d4-dafcbfd02ec5",
   "metadata": {},
   "outputs": [
    {
     "data": {
      "text/plain": [
       "Nonlinear mixed-effects model fit by maximum likelihood\n",
       "  Model: latency ~ A * 2^(B * day) \n",
       " Data: mydatag \n",
       "       AIC      BIC    logLik\n",
       "  1361.829 1384.334 -673.9147\n",
       "\n",
       "Random effects:\n",
       " Formula: list(A ~ 1, B ~ 1)\n",
       " Level: subject\n",
       " Structure: Diagonal\n",
       "        A.(Intercept) B.(Intercept) Residual\n",
       "StdDev:   0.002266501    0.04229045 9.223658\n",
       "\n",
       "Fixed effects: A + B ~ group \n",
       "                 Value Std.Error  DF   t-value p-value\n",
       "A.(Intercept) 40.76652 2.2394921 158 18.203465  0.0000\n",
       "A.group2       7.48775 3.0802487 158  2.430890  0.0162\n",
       "B.(Intercept) -0.28364 0.0339268 158 -8.360317  0.0000\n",
       "B.group2       0.02577 0.0432783 158  0.595550  0.5523\n",
       " Correlation: \n",
       "              A.(In) A.grp2 B.(In)\n",
       "A.group2      -0.727              \n",
       "B.(Intercept) -0.631  0.459       \n",
       "B.group2       0.495 -0.623 -0.784\n",
       "\n",
       "Standardized Within-Group Residuals:\n",
       "        Min          Q1         Med          Q3         Max \n",
       "-2.61804692 -0.67409431 -0.07253089  0.65906754  2.41540995 \n",
       "\n",
       "Number of Observations: 184\n",
       "Number of Groups: 23 "
      ]
     },
     "metadata": {},
     "output_type": "display_data"
    }
   ],
   "source": [
    "summary(myresult)"
   ]
  }
 ],
 "metadata": {
  "kernelspec": {
   "display_name": "R",
   "language": "R",
   "name": "ir"
  },
  "language_info": {
   "codemirror_mode": "r",
   "file_extension": ".r",
   "mimetype": "text/x-r-source",
   "name": "R",
   "pygments_lexer": "r",
   "version": "3.6.1"
  }
 },
 "nbformat": 4,
 "nbformat_minor": 5
}
