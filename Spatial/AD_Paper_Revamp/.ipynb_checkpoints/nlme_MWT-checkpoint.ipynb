{
 "cells": [
  {
   "cell_type": "code",
   "execution_count": 6,
   "id": "34f638f4-18b4-441c-a22c-c0b18229f8b5",
   "metadata": {},
   "outputs": [],
   "source": [
    "mydata <-read.table(\"MWT.txt\", header = T, sep = \",\")"
   ]
  },
  {
   "cell_type": "code",
   "execution_count": 7,
   "id": "388bdc70-21fc-48ed-9bda-bc4e12fe6a75",
   "metadata": {},
   "outputs": [
    {
     "data": {
      "text/plain": [
       "     mouse         day            lat             group      \n",
       " Min.   : 1   Min.   :0.00   Min.   : 5.975   Min.   :1.000  \n",
       " 1st Qu.: 6   1st Qu.:1.75   1st Qu.:13.994   1st Qu.:1.000  \n",
       " Median :12   Median :3.50   Median :21.225   Median :2.000  \n",
       " Mean   :12   Mean   :3.50   Mean   :25.474   Mean   :1.522  \n",
       " 3rd Qu.:18   3rd Qu.:5.25   3rd Qu.:35.581   3rd Qu.:2.000  \n",
       " Max.   :23   Max.   :7.00   Max.   :60.000   Max.   :2.000  "
      ]
     },
     "metadata": {},
     "output_type": "display_data"
    }
   ],
   "source": [
    "summary(mydata)"
   ]
  },
  {
   "cell_type": "code",
   "execution_count": 8,
   "id": "44574c51-4590-4979-a571-65138be2e069",
   "metadata": {},
   "outputs": [],
   "source": [
    "library(nlme)"
   ]
  },
  {
   "cell_type": "code",
   "execution_count": 9,
   "id": "086c7123-6dfe-4254-88c9-1c243fe059fd",
   "metadata": {},
   "outputs": [],
   "source": [
    "mydata$group <-as.factor(mydata$group)"
   ]
  }
 ],
 "metadata": {
  "kernelspec": {
   "display_name": "R",
   "language": "R",
   "name": "ir"
  },
  "language_info": {
   "codemirror_mode": "r",
   "file_extension": ".r",
   "mimetype": "text/x-r-source",
   "name": "R",
   "pygments_lexer": "r",
   "version": "3.6.1"
  }
 },
 "nbformat": 4,
 "nbformat_minor": 5
}
