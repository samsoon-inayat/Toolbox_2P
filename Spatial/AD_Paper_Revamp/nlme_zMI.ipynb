{
 "cells": [
  {
   "cell_type": "code",
   "execution_count": 28,
   "id": "34f638f4-18b4-441c-a22c-c0b18229f8b5",
   "metadata": {},
   "outputs": [],
   "source": [
    "mydata <-read.table(\"nlme_zMI.txt\", header = T, sep = \",\")"
   ]
  },
  {
   "cell_type": "code",
   "execution_count": 29,
   "id": "388bdc70-21fc-48ed-9bda-bc4e12fe6a75",
   "metadata": {},
   "outputs": [
    {
     "data": {
      "text/plain": [
       "      cell           cond           zMI              group      \n",
       " Min.   :   1   Min.   :0.00   Min.   :-2.6777   Min.   :1.000  \n",
       " 1st Qu.: 471   1st Qu.:0.75   1st Qu.:-0.3935   1st Qu.:1.000  \n",
       " Median : 941   Median :1.50   Median :-0.1427   Median :1.000  \n",
       " Mean   : 941   Mean   :1.50   Mean   : 0.8733   Mean   :1.466  \n",
       " 3rd Qu.:1411   3rd Qu.:2.25   3rd Qu.: 1.2969   3rd Qu.:2.000  \n",
       " Max.   :1881   Max.   :3.00   Max.   :26.6222   Max.   :2.000  "
      ]
     },
     "metadata": {},
     "output_type": "display_data"
    }
   ],
   "source": [
    "summary(mydata)"
   ]
  },
  {
   "cell_type": "code",
   "execution_count": 30,
   "id": "44574c51-4590-4979-a571-65138be2e069",
   "metadata": {},
   "outputs": [],
   "source": [
    "library(nlme)"
   ]
  },
  {
   "cell_type": "code",
   "execution_count": 31,
   "id": "086c7123-6dfe-4254-88c9-1c243fe059fd",
   "metadata": {},
   "outputs": [],
   "source": [
    "mydata$group <-as.factor(mydata$group)"
   ]
  },
  {
   "cell_type": "code",
   "execution_count": 32,
   "id": "9a012e88-dac4-4985-8abd-d2ad7773cb3d",
   "metadata": {},
   "outputs": [],
   "source": [
    "mydatag <-groupedData(zMI ~ cond | cell, data = mydata)"
   ]
  },
  {
   "cell_type": "code",
   "execution_count": 33,
   "id": "d1a9b057-bf9f-4a29-b0e4-f607a12ce847",
   "metadata": {},
   "outputs": [
    {
     "name": "stdout",
     "output_type": "stream",
     "text": [
      "Classes 'nfnGroupedData', 'nfGroupedData', 'groupedData' and 'data.frame':\t7524 obs. of  4 variables:\n",
      " $ cell : Ord.factor w/ 1881 levels \"357\"<\"1327\"<\"1422\"<..: 1193 1193 1193 1193 958 958 958 958 551 551 ...\n",
      " $ cond : int  0 1 2 3 0 1 2 3 0 1 ...\n",
      " $ zMI  : num  0.8242 2.705 -0.0727 1.0701 0.1285 ...\n",
      " $ group: Factor w/ 2 levels \"1\",\"2\": 1 1 1 1 1 1 1 1 1 1 ...\n",
      " - attr(*, \"formula\")=Class 'formula'  language zMI ~ cond | cell\n",
      "  .. ..- attr(*, \".Environment\")=<environment: R_GlobalEnv> \n",
      " - attr(*, \"FUN\")=function (x)  \n",
      " - attr(*, \"order.groups\")= logi TRUE\n"
     ]
    }
   ],
   "source": [
    "str(mydatag)"
   ]
  },
  {
   "cell_type": "code",
   "execution_count": 37,
   "id": "7df7472d-128e-4e97-a171-09b5be7a32ae",
   "metadata": {},
   "outputs": [
    {
     "ename": "ERROR",
     "evalue": "Error in chol.default((value + t(value))/2): the leading minor of order 1 is not positive definite\n",
     "output_type": "error",
     "traceback": [
      "Error in chol.default((value + t(value))/2): the leading minor of order 1 is not positive definite\nTraceback:\n",
      "1. nlme(zMI ~ A * sin(2 * pi * B * cond), fixed = A + B ~ group, \n .     random = pdDiag(A + B ~ 1), data = mydatag, start = c(A = 3, \n .         B = 3, rep(0, 2 * 2 - 2)))",
      "2. nlme.formula(zMI ~ A * sin(2 * pi * B * cond), fixed = A + B ~ \n .     group, random = pdDiag(A + B ~ 1), data = mydatag, start = c(A = 3, \n .     B = 3, rep(0, 2 * 2 - 2)))",
      "3. Initialize(nlmeSt, dataMixShrunk, grpShrunk, control = controlvals)",
      "4. Initialize.lmeStruct(nlmeSt, dataMixShrunk, grpShrunk, control = controlvals)",
      "5. lapply(object, Initialize, data, conLin, control)",
      "6. FUN(X[[i]], ...)",
      "7. Initialize.reStruct(X[[i]], ...)",
      "8. `matrix<-`(`*tmp*`, value = auxInit[[i]])",
      "9. `matrix<-.pdMat`(`*tmp*`, value = auxInit[[i]])",
      "10. pdConstruct(object, value)",
      "11. pdConstruct.pdDiag(object, value)",
      "12. NextMethod()",
      "13. pdConstruct.pdMat(object, value)",
      "14. chol((value + t(value))/2)",
      "15. chol.default((value + t(value))/2)"
     ]
    }
   ],
   "source": [
    "myresult <-nlme(zMI ~ A * sin(2*pi*B * cond), fixed = A + B ~ group, random = pdDiag(A + B ~ 1), data = mydatag, start = c(A = 3, B = 3, rep(0, 2 * 2-2)))"
   ]
  },
  {
   "cell_type": "code",
   "execution_count": 34,
   "id": "8a89a350-780c-444b-91d4-dafcbfd02ec5",
   "metadata": {},
   "outputs": [
    {
     "data": {
      "text/plain": [
       "Nonlinear mixed-effects model fit by maximum likelihood\n",
       "  Model: latency ~ A * 2.718^(B * day) \n",
       " Data: mydatag \n",
       "       AIC      BIC    logLik\n",
       "  1361.829 1384.334 -673.9147\n",
       "\n",
       "Random effects:\n",
       " Formula: list(A ~ 1, B ~ 1)\n",
       " Level: subject\n",
       " Structure: Diagonal\n",
       "        A.(Intercept) B.(Intercept) Residual\n",
       "StdDev:   0.002266527    0.02931654 9.223658\n",
       "\n",
       "Fixed effects: A + B ~ group \n",
       "                 Value Std.Error  DF   t-value p-value\n",
       "A.(Intercept) 40.76652 2.2394921 158 18.203465  0.0000\n",
       "A.group2       7.48775 3.0802487 158  2.430890  0.0162\n",
       "B.(Intercept) -0.19662 0.0235187 158 -8.360317  0.0000\n",
       "B.group2       0.01787 0.0300014 158  0.595550  0.5523\n",
       " Correlation: \n",
       "              A.(In) A.grp2 B.(In)\n",
       "A.group2      -0.727              \n",
       "B.(Intercept) -0.631  0.459       \n",
       "B.group2       0.495 -0.623 -0.784\n",
       "\n",
       "Standardized Within-Group Residuals:\n",
       "        Min          Q1         Med          Q3         Max \n",
       "-2.61804693 -0.67409430 -0.07253088  0.65906753  2.41540996 \n",
       "\n",
       "Number of Observations: 184\n",
       "Number of Groups: 23 "
      ]
     },
     "metadata": {},
     "output_type": "display_data"
    }
   ],
   "source": [
    "summary(myresult)"
   ]
  },
  {
   "cell_type": "code",
   "execution_count": 20,
   "id": "6a68a3a4-26b3-4e3c-8ad4-a9abc427d472",
   "metadata": {},
   "outputs": [],
   "source": [
    "pd1 <- pdDiag(diag(1:3), nam = c(\"A\",\"B\",\"C\"))"
   ]
  },
  {
   "cell_type": "code",
   "execution_count": 25,
   "id": "6086a1a4-f234-4208-b063-318bfebe8460",
   "metadata": {},
   "outputs": [
    {
     "data": {
      "text/plain": [
       "Positive definite matrix structure of class pdDiag representing\n",
       "     [,1] [,2] [,3]\n",
       "[1,]    1    0    0\n",
       "[2,]    0    2    0\n",
       "[3,]    0    0    3"
      ]
     },
     "metadata": {},
     "output_type": "display_data"
    }
   ],
   "source": [
    "pdDiag(diag(1:3))"
   ]
  },
  {
   "cell_type": "code",
   "execution_count": 26,
   "id": "19e7cc96-0295-4c40-a2ef-c65ee34ce54e",
   "metadata": {},
   "outputs": [
    {
     "data": {
      "text/plain": [
       "Uninitialized positive definite matrix structure of class pdDiag."
      ]
     },
     "metadata": {},
     "output_type": "display_data"
    }
   ],
   "source": [
    "pdDiag(A + B ~ 1)"
   ]
  },
  {
   "cell_type": "code",
   "execution_count": 18,
   "id": "2878e6ea-2503-49ba-bdcb-64924ef1c906",
   "metadata": {},
   "outputs": [
    {
     "data": {
      "text/html": [
       "<table>\n",
       "<thead><tr><th></th><th scope=col>numDF</th><th scope=col>denDF</th><th scope=col>F-value</th><th scope=col>p-value</th></tr></thead>\n",
       "<tbody>\n",
       "\t<tr><th scope=row>A.(Intercept)</th><td>1           </td><td>158         </td><td>331.3661497 </td><td>0.000000e+00</td></tr>\n",
       "\t<tr><th scope=row>A.group</th><td>1           </td><td>158         </td><td>  5.9092265 </td><td>1.618070e-02</td></tr>\n",
       "\t<tr><th scope=row>B.(Intercept)</th><td>1           </td><td>158         </td><td> 69.8949005 </td><td>3.064216e-14</td></tr>\n",
       "\t<tr><th scope=row>B.group</th><td>1           </td><td>158         </td><td>  0.3546792 </td><td>5.523283e-01</td></tr>\n",
       "</tbody>\n",
       "</table>\n"
      ],
      "text/latex": [
       "\\begin{tabular}{r|llll}\n",
       "  & numDF & denDF & F-value & p-value\\\\\n",
       "\\hline\n",
       "\tA.(Intercept) & 1            & 158          & 331.3661497  & 0.000000e+00\\\\\n",
       "\tA.group & 1            & 158          &   5.9092265  & 1.618070e-02\\\\\n",
       "\tB.(Intercept) & 1            & 158          &  69.8949005  & 3.064216e-14\\\\\n",
       "\tB.group & 1            & 158          &   0.3546792  & 5.523283e-01\\\\\n",
       "\\end{tabular}\n"
      ],
      "text/markdown": [
       "\n",
       "| <!--/--> | numDF | denDF | F-value | p-value |\n",
       "|---|---|---|---|---|\n",
       "| A.(Intercept) | 1            | 158          | 331.3661497  | 0.000000e+00 |\n",
       "| A.group | 1            | 158          |   5.9092265  | 1.618070e-02 |\n",
       "| B.(Intercept) | 1            | 158          |  69.8949005  | 3.064216e-14 |\n",
       "| B.group | 1            | 158          |   0.3546792  | 5.523283e-01 |\n",
       "\n"
      ],
      "text/plain": [
       "              numDF denDF F-value     p-value     \n",
       "A.(Intercept) 1     158   331.3661497 0.000000e+00\n",
       "A.group       1     158     5.9092265 1.618070e-02\n",
       "B.(Intercept) 1     158    69.8949005 3.064216e-14\n",
       "B.group       1     158     0.3546792 5.523283e-01"
      ]
     },
     "metadata": {},
     "output_type": "display_data"
    }
   ],
   "source": [
    "anova(myresult, type = \"marginal\")"
   ]
  },
  {
   "cell_type": "code",
   "execution_count": null,
   "id": "548b0a4b-3477-4218-a440-63c6e097eb13",
   "metadata": {},
   "outputs": [],
   "source": []
  }
 ],
 "metadata": {
  "kernelspec": {
   "display_name": "R",
   "language": "R",
   "name": "ir"
  },
  "language_info": {
   "codemirror_mode": "r",
   "file_extension": ".r",
   "mimetype": "text/x-r-source",
   "name": "R",
   "pygments_lexer": "r",
   "version": "3.6.1"
  }
 },
 "nbformat": 4,
 "nbformat_minor": 5
}
