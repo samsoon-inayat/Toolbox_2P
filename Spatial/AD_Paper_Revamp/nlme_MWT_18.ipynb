{
 "cells": [
  {
   "cell_type": "code",
   "execution_count": 1,
   "id": "34f638f4-18b4-441c-a22c-c0b18229f8b5",
   "metadata": {},
   "outputs": [],
   "source": [
    "mydata <-read.table(\"MWT_18.txt\", header = T, sep = \",\")"
   ]
  },
  {
   "cell_type": "code",
   "execution_count": 2,
   "id": "388bdc70-21fc-48ed-9bda-bc4e12fe6a75",
   "metadata": {},
   "outputs": [
    {
     "data": {
      "text/plain": [
       "    subject        day          latency           group      \n",
       " Min.   : 1   Min.   :0.00   Min.   : 7.375   Min.   :1.000  \n",
       " 1st Qu.: 6   1st Qu.:1.75   1st Qu.:22.356   1st Qu.:1.000  \n",
       " Median :11   Median :3.50   Median :31.650   Median :2.000  \n",
       " Mean   :11   Mean   :3.50   Mean   :31.853   Mean   :1.571  \n",
       " 3rd Qu.:16   3rd Qu.:5.25   3rd Qu.:41.156   3rd Qu.:2.000  \n",
       " Max.   :21   Max.   :7.00   Max.   :60.000   Max.   :2.000  "
      ]
     },
     "metadata": {},
     "output_type": "display_data"
    }
   ],
   "source": [
    "summary(mydata)"
   ]
  },
  {
   "cell_type": "code",
   "execution_count": 3,
   "id": "44574c51-4590-4979-a571-65138be2e069",
   "metadata": {},
   "outputs": [],
   "source": [
    "library(nlme)"
   ]
  },
  {
   "cell_type": "code",
   "execution_count": 4,
   "id": "086c7123-6dfe-4254-88c9-1c243fe059fd",
   "metadata": {},
   "outputs": [],
   "source": [
    "mydata$group <-as.factor(mydata$group)"
   ]
  },
  {
   "cell_type": "code",
   "execution_count": 5,
   "id": "9a012e88-dac4-4985-8abd-d2ad7773cb3d",
   "metadata": {},
   "outputs": [],
   "source": [
    "mydatag <-groupedData(latency ~ day | subject, data = mydata)"
   ]
  },
  {
   "cell_type": "code",
   "execution_count": 6,
   "id": "d1a9b057-bf9f-4a29-b0e4-f607a12ce847",
   "metadata": {},
   "outputs": [
    {
     "data": {
      "text/plain": [
       "    subject         day          latency       group \n",
       " 3      :  8   Min.   :0.00   Min.   : 7.375   1:72  \n",
       " 9      :  8   1st Qu.:1.75   1st Qu.:22.356   2:96  \n",
       " 8      :  8   Median :3.50   Median :31.650         \n",
       " 7      :  8   Mean   :3.50   Mean   :31.853         \n",
       " 2      :  8   3rd Qu.:5.25   3rd Qu.:41.156         \n",
       " 5      :  8   Max.   :7.00   Max.   :60.000         \n",
       " (Other):120                                         "
      ]
     },
     "metadata": {},
     "output_type": "display_data"
    }
   ],
   "source": [
    "summary(mydatag)"
   ]
  },
  {
   "cell_type": "code",
   "execution_count": 7,
   "id": "7df7472d-128e-4e97-a171-09b5be7a32ae",
   "metadata": {},
   "outputs": [],
   "source": [
    "myresult <-nlme(latency ~ A * 2.718^(B * day), fixed = A + B ~ group, random = pdDiag(A + B ~ 1), data = mydatag, start = c(A = 60, B = 0.1, rep(0, 2 * 2-2)))"
   ]
  },
  {
   "cell_type": "code",
   "execution_count": 8,
   "id": "8a89a350-780c-444b-91d4-dafcbfd02ec5",
   "metadata": {},
   "outputs": [
    {
     "data": {
      "text/plain": [
       "Nonlinear mixed-effects model fit by maximum likelihood\n",
       "  Model: latency ~ A * 2.718^(B * day) \n",
       " Data: mydatag \n",
       "       AIC     BIC    logLik\n",
       "  1259.052 1280.92 -622.5261\n",
       "\n",
       "Random effects:\n",
       " Formula: list(A ~ 1, B ~ 1)\n",
       " Level: subject\n",
       " Structure: Diagonal\n",
       "        A.(Intercept) B.(Intercept) Residual\n",
       "StdDev:       2.32803    0.02203691 9.449413\n",
       "\n",
       "Fixed effects: A + B ~ group \n",
       "                 Value Std.Error  DF   t-value p-value\n",
       "A.(Intercept) 37.52905  2.448872 144 15.325035  0.0000\n",
       "A.group2       7.44109  3.203227 144  2.322997  0.0216\n",
       "B.(Intercept) -0.09913  0.020094 144 -4.933310  0.0000\n",
       "B.group2       0.02754  0.024383 144  1.129299  0.2606\n",
       " Correlation: \n",
       "              A.(In) A.grp2 B.(In)\n",
       "A.group2      -0.765              \n",
       "B.(Intercept) -0.666  0.509       \n",
       "B.group2       0.549 -0.657 -0.824\n",
       "\n",
       "Standardized Within-Group Residuals:\n",
       "         Min           Q1          Med           Q3          Max \n",
       "-2.042029691 -0.769585082  0.006352206  0.704207498  2.488172543 \n",
       "\n",
       "Number of Observations: 168\n",
       "Number of Groups: 21 "
      ]
     },
     "metadata": {},
     "output_type": "display_data"
    }
   ],
   "source": [
    "summary(myresult)"
   ]
  },
  {
   "cell_type": "code",
   "execution_count": 66,
   "id": "28ab762f-5d49-488a-b330-531b8ae08dcd",
   "metadata": {},
   "outputs": [
    {
     "data": {
      "text/html": [
       "<table>\n",
       "<thead><tr><th></th><th scope=col>numDF</th><th scope=col>denDF</th><th scope=col>F-value</th><th scope=col>p-value</th></tr></thead>\n",
       "<tbody>\n",
       "\t<tr><th scope=row>A.(Intercept)</th><td>1           </td><td>144         </td><td>234.856701  </td><td>0.000000e+00</td></tr>\n",
       "\t<tr><th scope=row>A.group</th><td>1           </td><td>144         </td><td>  5.396316  </td><td>2.157974e-02</td></tr>\n",
       "\t<tr><th scope=row>B.(Intercept)</th><td>1           </td><td>144         </td><td> 24.337545  </td><td>2.202467e-06</td></tr>\n",
       "\t<tr><th scope=row>B.group</th><td>1           </td><td>144         </td><td>  1.275316  </td><td>2.606495e-01</td></tr>\n",
       "</tbody>\n",
       "</table>\n"
      ],
      "text/latex": [
       "\\begin{tabular}{r|llll}\n",
       "  & numDF & denDF & F-value & p-value\\\\\n",
       "\\hline\n",
       "\tA.(Intercept) & 1            & 144          & 234.856701   & 0.000000e+00\\\\\n",
       "\tA.group & 1            & 144          &   5.396316   & 2.157974e-02\\\\\n",
       "\tB.(Intercept) & 1            & 144          &  24.337545   & 2.202467e-06\\\\\n",
       "\tB.group & 1            & 144          &   1.275316   & 2.606495e-01\\\\\n",
       "\\end{tabular}\n"
      ],
      "text/markdown": [
       "\n",
       "| <!--/--> | numDF | denDF | F-value | p-value |\n",
       "|---|---|---|---|---|\n",
       "| A.(Intercept) | 1            | 144          | 234.856701   | 0.000000e+00 |\n",
       "| A.group | 1            | 144          |   5.396316   | 2.157974e-02 |\n",
       "| B.(Intercept) | 1            | 144          |  24.337545   | 2.202467e-06 |\n",
       "| B.group | 1            | 144          |   1.275316   | 2.606495e-01 |\n",
       "\n"
      ],
      "text/plain": [
       "              numDF denDF F-value    p-value     \n",
       "A.(Intercept) 1     144   234.856701 0.000000e+00\n",
       "A.group       1     144     5.396316 2.157974e-02\n",
       "B.(Intercept) 1     144    24.337545 2.202467e-06\n",
       "B.group       1     144     1.275316 2.606495e-01"
      ]
     },
     "metadata": {},
     "output_type": "display_data"
    }
   ],
   "source": [
    "anova(myresult, type = \"marginal\")"
   ]
  }
 ],
 "metadata": {
  "kernelspec": {
   "display_name": "R",
   "language": "R",
   "name": "ir"
  },
  "language_info": {
   "codemirror_mode": "r",
   "file_extension": ".r",
   "mimetype": "text/x-r-source",
   "name": "R",
   "pygments_lexer": "r",
   "version": "3.6.1"
  }
 },
 "nbformat": 4,
 "nbformat_minor": 5
}
