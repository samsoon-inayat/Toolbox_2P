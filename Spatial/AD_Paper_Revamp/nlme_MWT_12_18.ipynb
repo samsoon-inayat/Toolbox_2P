{
 "cells": [
  {
   "cell_type": "code",
   "execution_count": 73,
   "id": "34f638f4-18b4-441c-a22c-c0b18229f8b5",
   "metadata": {},
   "outputs": [],
   "source": [
    "mydata <-read.table(\"MWT_12_18.txt\", header = T, sep = \",\")"
   ]
  },
  {
   "cell_type": "code",
   "execution_count": 74,
   "id": "388bdc70-21fc-48ed-9bda-bc4e12fe6a75",
   "metadata": {},
   "outputs": [
    {
     "data": {
      "text/plain": [
       "    subject           day          latency           group      \n",
       " Min.   : 1.00   Min.   :0.00   Min.   : 5.975   Min.   :1.000  \n",
       " 1st Qu.: 6.00   1st Qu.:1.75   1st Qu.:16.663   1st Qu.:1.000  \n",
       " Median :11.50   Median :3.50   Median :27.625   Median :2.000  \n",
       " Mean   :11.52   Mean   :3.50   Mean   :28.519   Mean   :1.545  \n",
       " 3rd Qu.:17.00   3rd Qu.:5.25   3rd Qu.:39.056   3rd Qu.:2.000  \n",
       " Max.   :23.00   Max.   :7.00   Max.   :60.000   Max.   :2.000  \n",
       "      age       \n",
       " Min.   :1.000  \n",
       " 1st Qu.:1.000  \n",
       " Median :1.000  \n",
       " Mean   :1.477  \n",
       " 3rd Qu.:2.000  \n",
       " Max.   :2.000  "
      ]
     },
     "metadata": {},
     "output_type": "display_data"
    }
   ],
   "source": [
    "summary(mydata)"
   ]
  },
  {
   "cell_type": "code",
   "execution_count": 69,
   "id": "44574c51-4590-4979-a571-65138be2e069",
   "metadata": {},
   "outputs": [],
   "source": [
    "library(nlme)"
   ]
  },
  {
   "cell_type": "code",
   "execution_count": 75,
   "id": "086c7123-6dfe-4254-88c9-1c243fe059fd",
   "metadata": {},
   "outputs": [],
   "source": [
    "mydata$group<-as.factor(mydata$group)"
   ]
  },
  {
   "cell_type": "code",
   "execution_count": 77,
   "id": "e6b4192e-ec3e-4c3e-bbc2-c041b892ecb1",
   "metadata": {},
   "outputs": [],
   "source": [
    "mydata$age<-as.factor(mydata$age)"
   ]
  },
  {
   "cell_type": "code",
   "execution_count": null,
   "id": "052a06e2-701d-4421-8fcf-1afc15306643",
   "metadata": {},
   "outputs": [],
   "source": []
  },
  {
   "cell_type": "code",
   "execution_count": 79,
   "id": "9a012e88-dac4-4985-8abd-d2ad7773cb3d",
   "metadata": {},
   "outputs": [],
   "source": [
    "mydatag <-groupedData(latency ~ day | subject, data = mydata)"
   ]
  },
  {
   "cell_type": "code",
   "execution_count": 80,
   "id": "d1a9b057-bf9f-4a29-b0e4-f607a12ce847",
   "metadata": {},
   "outputs": [
    {
     "data": {
      "text/plain": [
       "    subject         day          latency       group   age    \n",
       " 7      : 16   Min.   :0.00   Min.   : 5.975   1:160   1:184  \n",
       " 13     : 16   1st Qu.:1.75   1st Qu.:16.663   2:192   2:168  \n",
       " 3      : 16   Median :3.50   Median :27.625                  \n",
       " 5      : 16   Mean   :3.50   Mean   :28.519                  \n",
       " 4      : 16   3rd Qu.:5.25   3rd Qu.:39.056                  \n",
       " 9      : 16   Max.   :7.00   Max.   :60.000                  \n",
       " (Other):256                                                  "
      ]
     },
     "metadata": {},
     "output_type": "display_data"
    }
   ],
   "source": [
    "summary(mydatag)"
   ]
  },
  {
   "cell_type": "code",
   "execution_count": 83,
   "id": "7df7472d-128e-4e97-a171-09b5be7a32ae",
   "metadata": {},
   "outputs": [],
   "source": [
    "myresult <-nlme(latency ~ A * 2.718^(B * day), fixed = A + B ~ age, random = pdDiag(A + B ~ 1), data = mydatag, start = c(A = 60, B = 0.1, rep(0, 2 * 2-2)))"
   ]
  },
  {
   "cell_type": "code",
   "execution_count": 84,
   "id": "8a89a350-780c-444b-91d4-dafcbfd02ec5",
   "metadata": {},
   "outputs": [
    {
     "data": {
      "text/plain": [
       "Nonlinear mixed-effects model fit by maximum likelihood\n",
       "  Model: latency ~ A * 2.718^(B * day) \n",
       " Data: mydatag \n",
       "       AIC      BIC    logLik\n",
       "  2629.771 2656.816 -1307.885\n",
       "\n",
       "Random effects:\n",
       " Formula: list(A ~ 1, B ~ 1)\n",
       " Level: subject\n",
       " Structure: Diagonal\n",
       "        A.(Intercept) B.(Intercept) Residual\n",
       "StdDev:      3.689585    0.03225813 9.470343\n",
       "\n",
       "Fixed effects: A + B ~ age \n",
       "                 Value Std.Error  DF    t-value p-value\n",
       "A.(Intercept) 44.64683 1.7485859 326  25.533106  0.0000\n",
       "A.age2        -2.64655 2.1644396 326  -1.222743  0.2223\n",
       "B.(Intercept) -0.18859 0.0150955 326 -12.493212  0.0000\n",
       "B.age2         0.10613 0.0169003 326   6.279964  0.0000\n",
       " Correlation: \n",
       "              A.(In) A.age2 B.(In)\n",
       "A.age2        -0.648              \n",
       "B.(Intercept) -0.551  0.440       \n",
       "B.age2         0.489 -0.712 -0.705\n",
       "\n",
       "Standardized Within-Group Residuals:\n",
       "        Min          Q1         Med          Q3         Max \n",
       "-2.79338435 -0.73934632 -0.03018215  0.72083185  2.55132885 \n",
       "\n",
       "Number of Observations: 352\n",
       "Number of Groups: 23 "
      ]
     },
     "metadata": {},
     "output_type": "display_data"
    }
   ],
   "source": [
    "summary(myresult)"
   ]
  },
  {
   "cell_type": "code",
   "execution_count": 66,
   "id": "28ab762f-5d49-488a-b330-531b8ae08dcd",
   "metadata": {},
   "outputs": [
    {
     "data": {
      "text/html": [
       "<table>\n",
       "<thead><tr><th></th><th scope=col>numDF</th><th scope=col>denDF</th><th scope=col>F-value</th><th scope=col>p-value</th></tr></thead>\n",
       "<tbody>\n",
       "\t<tr><th scope=row>A.(Intercept)</th><td>1           </td><td>144         </td><td>234.856701  </td><td>0.000000e+00</td></tr>\n",
       "\t<tr><th scope=row>A.group</th><td>1           </td><td>144         </td><td>  5.396316  </td><td>2.157974e-02</td></tr>\n",
       "\t<tr><th scope=row>B.(Intercept)</th><td>1           </td><td>144         </td><td> 24.337545  </td><td>2.202467e-06</td></tr>\n",
       "\t<tr><th scope=row>B.group</th><td>1           </td><td>144         </td><td>  1.275316  </td><td>2.606495e-01</td></tr>\n",
       "</tbody>\n",
       "</table>\n"
      ],
      "text/latex": [
       "\\begin{tabular}{r|llll}\n",
       "  & numDF & denDF & F-value & p-value\\\\\n",
       "\\hline\n",
       "\tA.(Intercept) & 1            & 144          & 234.856701   & 0.000000e+00\\\\\n",
       "\tA.group & 1            & 144          &   5.396316   & 2.157974e-02\\\\\n",
       "\tB.(Intercept) & 1            & 144          &  24.337545   & 2.202467e-06\\\\\n",
       "\tB.group & 1            & 144          &   1.275316   & 2.606495e-01\\\\\n",
       "\\end{tabular}\n"
      ],
      "text/markdown": [
       "\n",
       "| <!--/--> | numDF | denDF | F-value | p-value |\n",
       "|---|---|---|---|---|\n",
       "| A.(Intercept) | 1            | 144          | 234.856701   | 0.000000e+00 |\n",
       "| A.group | 1            | 144          |   5.396316   | 2.157974e-02 |\n",
       "| B.(Intercept) | 1            | 144          |  24.337545   | 2.202467e-06 |\n",
       "| B.group | 1            | 144          |   1.275316   | 2.606495e-01 |\n",
       "\n"
      ],
      "text/plain": [
       "              numDF denDF F-value    p-value     \n",
       "A.(Intercept) 1     144   234.856701 0.000000e+00\n",
       "A.group       1     144     5.396316 2.157974e-02\n",
       "B.(Intercept) 1     144    24.337545 2.202467e-06\n",
       "B.group       1     144     1.275316 2.606495e-01"
      ]
     },
     "metadata": {},
     "output_type": "display_data"
    }
   ],
   "source": [
    "anova(myresult, type = \"marginal\")"
   ]
  }
 ],
 "metadata": {
  "kernelspec": {
   "display_name": "R",
   "language": "R",
   "name": "ir"
  },
  "language_info": {
   "codemirror_mode": "r",
   "file_extension": ".r",
   "mimetype": "text/x-r-source",
   "name": "R",
   "pygments_lexer": "r",
   "version": "3.6.1"
  }
 },
 "nbformat": 4,
 "nbformat_minor": 5
}
