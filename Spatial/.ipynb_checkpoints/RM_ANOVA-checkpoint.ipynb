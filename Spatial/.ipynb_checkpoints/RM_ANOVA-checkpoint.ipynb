{
 "cells": [
  {
   "cell_type": "markdown",
   "metadata": {},
   "source": [
    "I am following the code at\n",
    "https://www.datanovia.com/en/lessons/mixed-anova-in-r/#three-way-bww-b\n",
    "\n",
    "to learn about three-way mixed repeated measures ANOVA with 1 between subject factor and 2 within subject factors"
   ]
  },
  {
   "cell_type": "code",
   "execution_count": null,
   "metadata": {},
   "outputs": [],
   "source": [
    "library(tidyverse)\n",
    "library(ggpubr)\n",
    "library(rstatix)"
   ]
  },
  {
   "cell_type": "code",
   "execution_count": null,
   "metadata": {},
   "outputs": [],
   "source": []
  },
  {
   "cell_type": "code",
   "execution_count": 5,
   "metadata": {},
   "outputs": [
    {
     "name": "stdout",
     "output_type": "stream",
     "text": [
      "'data.frame':\t22 obs. of  2 variables:\n",
      " $ Filenames: chr  \"ElbowHand_AngularVariance.csv\" \"Grasp_HandVelocity.csv\" \"Release_HandVelocity.csv\" \"Hand_Area.csv\" ...\n",
      " $ Varnames : chr  \"AngularVariance\" \"HandVelocity\" \"HandVelocity\" \"Area\" ...\n"
     ]
    }
   ],
   "source": []
  },
  {
   "cell_type": "code",
   "execution_count": null,
   "metadata": {},
   "outputs": [],
   "source": [
    "filename = \"dataT_avar.csv\"\n",
    "print(filename)\n",
    "r_data = read.csv(filename)\n",
    "print(r_data)\n",
    "data = as_tibble(r_data)\n",
    "print(data)"
   ]
  },
  {
   "cell_type": "code",
   "execution_count": null,
   "metadata": {},
   "outputs": [],
   "source": [
    "data <- data %>%\n",
    "  gather(key = \"PullType\", value = \"varname\", Pantomime, Real) %>%\n",
    "  convert_as_factor(ID,Group,Hand_Dominance, PullType)\n",
    "print(data)"
   ]
  },
  {
   "cell_type": "code",
   "execution_count": null,
   "metadata": {},
   "outputs": [],
   "source": [
    "ls()"
   ]
  },
  {
   "cell_type": "code",
   "execution_count": null,
   "metadata": {},
   "outputs": [],
   "source": [
    "print(varname)\n",
    "data %>%\n",
    "  group_by(Group, Hand_Dominance, PullType) %>%\n",
    "  get_summary_stats(\"varname\", type = \"mean_sd\")"
   ]
  },
  {
   "cell_type": "code",
   "execution_count": null,
   "metadata": {},
   "outputs": [],
   "source": [
    "bxp <- ggboxplot(\n",
    "  data, x = \"Group\", y = \"varname\",\n",
    "  color = \"PullType\", palette = \"jco\",\n",
    "  facet.by = \"Hand_Dominance\", short.panel.labs = FALSE\n",
    "  )\n",
    "bxp"
   ]
  },
  {
   "cell_type": "code",
   "execution_count": null,
   "metadata": {},
   "outputs": [],
   "source": [
    "data %>%\n",
    "  group_by(Hand_Dominance, Group, PullType) %>%\n",
    "  identify_outliers(varname)"
   ]
  },
  {
   "cell_type": "code",
   "execution_count": null,
   "metadata": {},
   "outputs": [],
   "source": [
    "data %>%\n",
    "  group_by(Hand_Dominance, Group, PullType) %>%\n",
    "  shapiro_test(varname)"
   ]
  },
  {
   "cell_type": "code",
   "execution_count": null,
   "metadata": {
    "scrolled": true
   },
   "outputs": [],
   "source": [
    "ggqqplot(data, \"varname\", ggtheme = theme_bw()) +\n",
    "  facet_grid(Hand_Dominance + Group ~ PullType, labeller = \"label_both\")"
   ]
  },
  {
   "cell_type": "code",
   "execution_count": null,
   "metadata": {},
   "outputs": [],
   "source": [
    "data %>%\n",
    "  group_by(Hand_Dominance, PullType) %>%\n",
    "  levene_test(varname ~ Group)"
   ]
  },
  {
   "cell_type": "code",
   "execution_count": null,
   "metadata": {},
   "outputs": [],
   "source": [
    "res.aov <- anova_test(\n",
    "  data = data, dv = varname, wid = ID,\n",
    "  between = Group, within = c(Hand_Dominance, PullType)\n",
    "  )\n",
    "get_anova_table(res.aov)"
   ]
  },
  {
   "cell_type": "code",
   "execution_count": null,
   "metadata": {},
   "outputs": [],
   "source": [
    "# compute pairwise comparisons\n",
    "pwc <- data %>%\n",
    "  group_by(Group, Hand_Dominance) %>%\n",
    "  pairwise_t_test(\n",
    "    varname ~ PullType, paired = TRUE, \n",
    "    p.adjust.method = \"bonferroni\"\n",
    "    ) %>%\n",
    "  select(-statistic, -df) # Remove details\n",
    "# Focus on the results of exercises:yes group\n",
    "pwc %>% filter(Group == \"1\") %>%\n",
    "  select(-p)    # Remove p column"
   ]
  },
  {
   "cell_type": "code",
   "execution_count": null,
   "metadata": {},
   "outputs": [],
   "source": [
    "# Visualization: box plots with p-values\n",
    "pwc <- pwc %>% add_xy_position(x = \"Group\")\n",
    "pwc.filtered <- pwc %>% filter(Group == \"1\")\n",
    "bxp + \n",
    "  stat_pvalue_manual(pwc.filtered, tip.length = 0, hide.ns = TRUE) +\n",
    "  labs(\n",
    "    subtitle = get_test_label(res.aov, detailed = TRUE),\n",
    "    caption = get_pwc_label(pwc)\n",
    "  )"
   ]
  },
  {
   "cell_type": "code",
   "execution_count": null,
   "metadata": {},
   "outputs": [],
   "source": [
    "# file_names <- data.frame(data_file_names_df$Filenames)\n",
    "# for (ii in seq(1,nrow(data_file_names_df),by=1)){\n",
    "#     filename = as.vector(data_file_names_df$Filenames[ii])\n",
    "#     data = read.csv(filename)\n",
    "#     print(data)\n",
    "#     }"
   ]
  }
 ],
 "metadata": {
  "kernelspec": {
   "display_name": "R",
   "language": "R",
   "name": "ir"
  },
  "language_info": {
   "codemirror_mode": "r",
   "file_extension": ".r",
   "mimetype": "text/x-r-source",
   "name": "R",
   "pygments_lexer": "r",
   "version": "4.0.5"
  }
 },
 "nbformat": 4,
 "nbformat_minor": 4
}
