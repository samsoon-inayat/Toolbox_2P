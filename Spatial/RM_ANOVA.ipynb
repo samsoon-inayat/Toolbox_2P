{
 "cells": [
  {
   "cell_type": "markdown",
   "metadata": {},
   "source": [
    "I am following the code at\n",
    "https://www.datanovia.com/en/lessons/mixed-anova-in-r/#three-way-bww-b\n",
    "\n",
    "to learn about three-way mixed repeated measures ANOVA with 1 between subject factor and 2 within subject factors"
   ]
  },
  {
   "cell_type": "code",
   "execution_count": null,
   "metadata": {},
   "outputs": [],
   "source": [
    "library(tidyverse)\n",
    "library(ggpubr)\n",
    "library(rstatix)"
   ]
  },
  {
   "cell_type": "code",
   "execution_count": null,
   "metadata": {},
   "outputs": [],
   "source": []
  },
  {
   "cell_type": "code",
   "execution_count": 5,
   "metadata": {},
   "outputs": [
    {
     "name": "stdout",
     "output_type": "stream",
     "text": [
      "'data.frame':\t22 obs. of  2 variables:\n",
      " $ Filenames: chr  \"ElbowHand_AngularVariance.csv\" \"Grasp_HandVelocity.csv\" \"Release_HandVelocity.csv\" \"Hand_Area.csv\" ...\n",
      " $ Varnames : chr  \"AngularVariance\" \"HandVelocity\" \"HandVelocity\" \"Area\" ...\n"
     ]
    }
   ],
   "source": []
  },
  {
   "cell_type": "code",
   "execution_count": 45,
   "metadata": {},
   "outputs": [
    {
     "name": "stdout",
     "output_type": "stream",
     "text": [
      "[1] \"dataT.csv\"\n"
     ]
    }
   ],
   "source": [
    "varname = \"percent\"\n",
    "filename = \"dataT.csv\"\n",
    "print(filename)\n",
    "r_data = read.csv(filename)\n",
    "#print(r_data)\n",
    "data = as_tibble(r_data)\n",
    "#print(data)"
   ]
  },
  {
   "cell_type": "code",
   "execution_count": 46,
   "metadata": {},
   "outputs": [
    {
     "data": {
      "text/html": [
       "<table class=\"dataframe\">\n",
       "<caption>A tibble: 3 × 5</caption>\n",
       "<thead>\n",
       "\t<tr><th scope=col>Animal</th><th scope=col>BrakeState</th><th scope=col>EventType</th><th scope=col>Exc</th><th scope=col>Inh</th></tr>\n",
       "\t<tr><th scope=col>&lt;int&gt;</th><th scope=col>&lt;int&gt;</th><th scope=col>&lt;int&gt;</th><th scope=col>&lt;dbl&gt;</th><th scope=col>&lt;dbl&gt;</th></tr>\n",
       "</thead>\n",
       "<tbody>\n",
       "\t<tr><td>1</td><td>1</td><td>1</td><td>6.135987</td><td>2.072968</td></tr>\n",
       "\t<tr><td>1</td><td>1</td><td>2</td><td>2.404643</td><td>3.316750</td></tr>\n",
       "\t<tr><td>1</td><td>1</td><td>3</td><td>2.321725</td><td>1.409619</td></tr>\n",
       "</tbody>\n",
       "</table>\n"
      ],
      "text/latex": [
       "A tibble: 3 × 5\n",
       "\\begin{tabular}{lllll}\n",
       " Animal & BrakeState & EventType & Exc & Inh\\\\\n",
       " <int> & <int> & <int> & <dbl> & <dbl>\\\\\n",
       "\\hline\n",
       "\t 1 & 1 & 1 & 6.135987 & 2.072968\\\\\n",
       "\t 1 & 1 & 2 & 2.404643 & 3.316750\\\\\n",
       "\t 1 & 1 & 3 & 2.321725 & 1.409619\\\\\n",
       "\\end{tabular}\n"
      ],
      "text/markdown": [
       "\n",
       "A tibble: 3 × 5\n",
       "\n",
       "| Animal &lt;int&gt; | BrakeState &lt;int&gt; | EventType &lt;int&gt; | Exc &lt;dbl&gt; | Inh &lt;dbl&gt; |\n",
       "|---|---|---|---|---|\n",
       "| 1 | 1 | 1 | 6.135987 | 2.072968 |\n",
       "| 1 | 1 | 2 | 2.404643 | 3.316750 |\n",
       "| 1 | 1 | 3 | 2.321725 | 1.409619 |\n",
       "\n"
      ],
      "text/plain": [
       "  Animal BrakeState EventType Exc      Inh     \n",
       "1 1      1          1         6.135987 2.072968\n",
       "2 1      1          2         2.404643 3.316750\n",
       "3 1      1          3         2.321725 1.409619"
      ]
     },
     "metadata": {},
     "output_type": "display_data"
    }
   ],
   "source": [
    "head(data,3)"
   ]
  },
  {
   "cell_type": "code",
   "execution_count": 47,
   "metadata": {},
   "outputs": [
    {
     "name": "stdout",
     "output_type": "stream",
     "text": [
      "\u001b[90m# A tibble: 60 x 5\u001b[39m\n",
      "   Animal BrakeState EventType CellType percent\n",
      "   \u001b[3m\u001b[90m<fct>\u001b[39m\u001b[23m  \u001b[3m\u001b[90m<fct>\u001b[39m\u001b[23m      \u001b[3m\u001b[90m<fct>\u001b[39m\u001b[23m     \u001b[3m\u001b[90m<fct>\u001b[39m\u001b[23m      \u001b[3m\u001b[90m<dbl>\u001b[39m\u001b[23m\n",
      "\u001b[90m 1\u001b[39m 1      1          1         Exc         6.14\n",
      "\u001b[90m 2\u001b[39m 1      1          2         Exc         2.40\n",
      "\u001b[90m 3\u001b[39m 1      1          3         Exc         2.32\n",
      "\u001b[90m 4\u001b[39m 1      2          1         Exc        11.4 \n",
      "\u001b[90m 5\u001b[39m 1      2          2         Exc         8.51\n",
      "\u001b[90m 6\u001b[39m 1      2          3         Exc         1.71\n",
      "\u001b[90m 7\u001b[39m 2      1          1         Exc         5.90\n",
      "\u001b[90m 8\u001b[39m 2      1          2         Exc         1.23\n",
      "\u001b[90m 9\u001b[39m 2      1          3         Exc         1.85\n",
      "\u001b[90m10\u001b[39m 2      2          1         Exc         4.99\n",
      "\u001b[90m# ... with 50 more rows\u001b[39m\n"
     ]
    }
   ],
   "source": [
    "data <- data %>%\n",
    "  gather(key = \"CellType\", value = \"percent\", Exc, Inh) %>%\n",
    "  convert_as_factor(Animal,BrakeState,EventType,CellType)\n",
    "print(data)"
   ]
  },
  {
   "cell_type": "code",
   "execution_count": null,
   "metadata": {},
   "outputs": [],
   "source": [
    "ls()"
   ]
  },
  {
   "cell_type": "code",
   "execution_count": 59,
   "metadata": {},
   "outputs": [
    {
     "name": "stdout",
     "output_type": "stream",
     "text": [
      "[1] \"percent\"\n"
     ]
    },
    {
     "data": {
      "text/html": [
       "<table class=\"dataframe\">\n",
       "<caption>A tibble: 60 × 8</caption>\n",
       "<thead>\n",
       "\t<tr><th scope=col>Animal</th><th scope=col>BrakeState</th><th scope=col>EventType</th><th scope=col>CellType</th><th scope=col>variable</th><th scope=col>n</th><th scope=col>mean</th><th scope=col>sd</th></tr>\n",
       "\t<tr><th scope=col>&lt;fct&gt;</th><th scope=col>&lt;fct&gt;</th><th scope=col>&lt;fct&gt;</th><th scope=col>&lt;fct&gt;</th><th scope=col>&lt;chr&gt;</th><th scope=col>&lt;dbl&gt;</th><th scope=col>&lt;dbl&gt;</th><th scope=col>&lt;dbl&gt;</th></tr>\n",
       "</thead>\n",
       "<tbody>\n",
       "\t<tr><td>1</td><td>1</td><td>1</td><td>Exc</td><td>percent</td><td>1</td><td> 6.136</td><td>NA</td></tr>\n",
       "\t<tr><td>1</td><td>1</td><td>1</td><td>Inh</td><td>percent</td><td>1</td><td> 2.073</td><td>NA</td></tr>\n",
       "\t<tr><td>1</td><td>1</td><td>2</td><td>Exc</td><td>percent</td><td>1</td><td> 2.405</td><td>NA</td></tr>\n",
       "\t<tr><td>1</td><td>1</td><td>2</td><td>Inh</td><td>percent</td><td>1</td><td> 3.317</td><td>NA</td></tr>\n",
       "\t<tr><td>1</td><td>1</td><td>3</td><td>Exc</td><td>percent</td><td>1</td><td> 2.322</td><td>NA</td></tr>\n",
       "\t<tr><td>1</td><td>1</td><td>3</td><td>Inh</td><td>percent</td><td>1</td><td> 1.410</td><td>NA</td></tr>\n",
       "\t<tr><td>1</td><td>2</td><td>1</td><td>Exc</td><td>percent</td><td>1</td><td>11.443</td><td>NA</td></tr>\n",
       "\t<tr><td>1</td><td>2</td><td>1</td><td>Inh</td><td>percent</td><td>1</td><td> 4.312</td><td>NA</td></tr>\n",
       "\t<tr><td>1</td><td>2</td><td>2</td><td>Exc</td><td>percent</td><td>1</td><td> 8.513</td><td>NA</td></tr>\n",
       "\t<tr><td>1</td><td>2</td><td>2</td><td>Inh</td><td>percent</td><td>1</td><td> 6.357</td><td>NA</td></tr>\n",
       "\t<tr><td>1</td><td>2</td><td>3</td><td>Exc</td><td>percent</td><td>1</td><td> 1.714</td><td>NA</td></tr>\n",
       "\t<tr><td>1</td><td>2</td><td>3</td><td>Inh</td><td>percent</td><td>1</td><td> 1.769</td><td>NA</td></tr>\n",
       "\t<tr><td>2</td><td>1</td><td>1</td><td>Exc</td><td>percent</td><td>1</td><td> 5.898</td><td>NA</td></tr>\n",
       "\t<tr><td>2</td><td>1</td><td>1</td><td>Inh</td><td>percent</td><td>1</td><td> 1.585</td><td>NA</td></tr>\n",
       "\t<tr><td>2</td><td>1</td><td>2</td><td>Exc</td><td>percent</td><td>1</td><td> 1.232</td><td>NA</td></tr>\n",
       "\t<tr><td>2</td><td>1</td><td>2</td><td>Inh</td><td>percent</td><td>1</td><td> 2.641</td><td>NA</td></tr>\n",
       "\t<tr><td>2</td><td>1</td><td>3</td><td>Exc</td><td>percent</td><td>1</td><td> 1.849</td><td>NA</td></tr>\n",
       "\t<tr><td>2</td><td>1</td><td>3</td><td>Inh</td><td>percent</td><td>1</td><td> 1.408</td><td>NA</td></tr>\n",
       "\t<tr><td>2</td><td>2</td><td>1</td><td>Exc</td><td>percent</td><td>1</td><td> 4.988</td><td>NA</td></tr>\n",
       "\t<tr><td>2</td><td>2</td><td>1</td><td>Inh</td><td>percent</td><td>1</td><td> 4.577</td><td>NA</td></tr>\n",
       "\t<tr><td>2</td><td>2</td><td>2</td><td>Exc</td><td>percent</td><td>1</td><td> 3.638</td><td>NA</td></tr>\n",
       "\t<tr><td>2</td><td>2</td><td>2</td><td>Inh</td><td>percent</td><td>1</td><td> 4.460</td><td>NA</td></tr>\n",
       "\t<tr><td>2</td><td>2</td><td>3</td><td>Exc</td><td>percent</td><td>1</td><td> 2.465</td><td>NA</td></tr>\n",
       "\t<tr><td>2</td><td>2</td><td>3</td><td>Inh</td><td>percent</td><td>1</td><td> 4.636</td><td>NA</td></tr>\n",
       "\t<tr><td>3</td><td>1</td><td>1</td><td>Exc</td><td>percent</td><td>1</td><td> 6.032</td><td>NA</td></tr>\n",
       "\t<tr><td>3</td><td>1</td><td>1</td><td>Inh</td><td>percent</td><td>1</td><td> 4.286</td><td>NA</td></tr>\n",
       "\t<tr><td>3</td><td>1</td><td>2</td><td>Exc</td><td>percent</td><td>1</td><td> 0.952</td><td>NA</td></tr>\n",
       "\t<tr><td>3</td><td>1</td><td>2</td><td>Inh</td><td>percent</td><td>1</td><td> 5.714</td><td>NA</td></tr>\n",
       "\t<tr><td>3</td><td>1</td><td>3</td><td>Exc</td><td>percent</td><td>1</td><td> 3.651</td><td>NA</td></tr>\n",
       "\t<tr><td>3</td><td>1</td><td>3</td><td>Inh</td><td>percent</td><td>1</td><td> 3.175</td><td>NA</td></tr>\n",
       "\t<tr><td>3</td><td>2</td><td>1</td><td>Exc</td><td>percent</td><td>1</td><td> 7.725</td><td>NA</td></tr>\n",
       "\t<tr><td>3</td><td>2</td><td>1</td><td>Inh</td><td>percent</td><td>1</td><td> 6.667</td><td>NA</td></tr>\n",
       "\t<tr><td>3</td><td>2</td><td>2</td><td>Exc</td><td>percent</td><td>1</td><td> 4.550</td><td>NA</td></tr>\n",
       "\t<tr><td>3</td><td>2</td><td>2</td><td>Inh</td><td>percent</td><td>1</td><td> 5.926</td><td>NA</td></tr>\n",
       "\t<tr><td>3</td><td>2</td><td>3</td><td>Exc</td><td>percent</td><td>1</td><td> 4.127</td><td>NA</td></tr>\n",
       "\t<tr><td>3</td><td>2</td><td>3</td><td>Inh</td><td>percent</td><td>1</td><td> 5.714</td><td>NA</td></tr>\n",
       "\t<tr><td>4</td><td>1</td><td>1</td><td>Exc</td><td>percent</td><td>1</td><td> 6.805</td><td>NA</td></tr>\n",
       "\t<tr><td>4</td><td>1</td><td>1</td><td>Inh</td><td>percent</td><td>1</td><td> 1.183</td><td>NA</td></tr>\n",
       "\t<tr><td>4</td><td>1</td><td>2</td><td>Exc</td><td>percent</td><td>1</td><td> 0.888</td><td>NA</td></tr>\n",
       "\t<tr><td>4</td><td>1</td><td>2</td><td>Inh</td><td>percent</td><td>1</td><td> 2.811</td><td>NA</td></tr>\n",
       "\t<tr><td>4</td><td>1</td><td>3</td><td>Exc</td><td>percent</td><td>1</td><td> 1.775</td><td>NA</td></tr>\n",
       "\t<tr><td>4</td><td>1</td><td>3</td><td>Inh</td><td>percent</td><td>1</td><td> 1.627</td><td>NA</td></tr>\n",
       "\t<tr><td>4</td><td>2</td><td>1</td><td>Exc</td><td>percent</td><td>1</td><td> 7.101</td><td>NA</td></tr>\n",
       "\t<tr><td>4</td><td>2</td><td>1</td><td>Inh</td><td>percent</td><td>1</td><td> 5.128</td><td>NA</td></tr>\n",
       "\t<tr><td>4</td><td>2</td><td>2</td><td>Exc</td><td>percent</td><td>1</td><td> 6.312</td><td>NA</td></tr>\n",
       "\t<tr><td>4</td><td>2</td><td>2</td><td>Inh</td><td>percent</td><td>1</td><td> 5.128</td><td>NA</td></tr>\n",
       "\t<tr><td>4</td><td>2</td><td>3</td><td>Exc</td><td>percent</td><td>1</td><td> 2.367</td><td>NA</td></tr>\n",
       "\t<tr><td>4</td><td>2</td><td>3</td><td>Inh</td><td>percent</td><td>1</td><td> 3.057</td><td>NA</td></tr>\n",
       "\t<tr><td>5</td><td>1</td><td>1</td><td>Exc</td><td>percent</td><td>1</td><td> 4.826</td><td>NA</td></tr>\n",
       "\t<tr><td>5</td><td>1</td><td>1</td><td>Inh</td><td>percent</td><td>1</td><td> 1.737</td><td>NA</td></tr>\n",
       "\t<tr><td>5</td><td>1</td><td>2</td><td>Exc</td><td>percent</td><td>1</td><td> 1.351</td><td>NA</td></tr>\n",
       "\t<tr><td>5</td><td>1</td><td>2</td><td>Inh</td><td>percent</td><td>1</td><td> 3.861</td><td>NA</td></tr>\n",
       "\t<tr><td>5</td><td>1</td><td>3</td><td>Exc</td><td>percent</td><td>1</td><td> 1.737</td><td>NA</td></tr>\n",
       "\t<tr><td>5</td><td>1</td><td>3</td><td>Inh</td><td>percent</td><td>1</td><td> 1.544</td><td>NA</td></tr>\n",
       "\t<tr><td>5</td><td>2</td><td>1</td><td>Exc</td><td>percent</td><td>1</td><td> 7.207</td><td>NA</td></tr>\n",
       "\t<tr><td>5</td><td>2</td><td>1</td><td>Inh</td><td>percent</td><td>1</td><td> 5.663</td><td>NA</td></tr>\n",
       "\t<tr><td>5</td><td>2</td><td>2</td><td>Exc</td><td>percent</td><td>1</td><td> 4.376</td><td>NA</td></tr>\n",
       "\t<tr><td>5</td><td>2</td><td>2</td><td>Inh</td><td>percent</td><td>1</td><td> 6.950</td><td>NA</td></tr>\n",
       "\t<tr><td>5</td><td>2</td><td>3</td><td>Exc</td><td>percent</td><td>1</td><td> 2.188</td><td>NA</td></tr>\n",
       "\t<tr><td>5</td><td>2</td><td>3</td><td>Inh</td><td>percent</td><td>1</td><td> 2.703</td><td>NA</td></tr>\n",
       "</tbody>\n",
       "</table>\n"
      ],
      "text/latex": [
       "A tibble: 60 × 8\n",
       "\\begin{tabular}{llllllll}\n",
       " Animal & BrakeState & EventType & CellType & variable & n & mean & sd\\\\\n",
       " <fct> & <fct> & <fct> & <fct> & <chr> & <dbl> & <dbl> & <dbl>\\\\\n",
       "\\hline\n",
       "\t 1 & 1 & 1 & Exc & percent & 1 &  6.136 & NA\\\\\n",
       "\t 1 & 1 & 1 & Inh & percent & 1 &  2.073 & NA\\\\\n",
       "\t 1 & 1 & 2 & Exc & percent & 1 &  2.405 & NA\\\\\n",
       "\t 1 & 1 & 2 & Inh & percent & 1 &  3.317 & NA\\\\\n",
       "\t 1 & 1 & 3 & Exc & percent & 1 &  2.322 & NA\\\\\n",
       "\t 1 & 1 & 3 & Inh & percent & 1 &  1.410 & NA\\\\\n",
       "\t 1 & 2 & 1 & Exc & percent & 1 & 11.443 & NA\\\\\n",
       "\t 1 & 2 & 1 & Inh & percent & 1 &  4.312 & NA\\\\\n",
       "\t 1 & 2 & 2 & Exc & percent & 1 &  8.513 & NA\\\\\n",
       "\t 1 & 2 & 2 & Inh & percent & 1 &  6.357 & NA\\\\\n",
       "\t 1 & 2 & 3 & Exc & percent & 1 &  1.714 & NA\\\\\n",
       "\t 1 & 2 & 3 & Inh & percent & 1 &  1.769 & NA\\\\\n",
       "\t 2 & 1 & 1 & Exc & percent & 1 &  5.898 & NA\\\\\n",
       "\t 2 & 1 & 1 & Inh & percent & 1 &  1.585 & NA\\\\\n",
       "\t 2 & 1 & 2 & Exc & percent & 1 &  1.232 & NA\\\\\n",
       "\t 2 & 1 & 2 & Inh & percent & 1 &  2.641 & NA\\\\\n",
       "\t 2 & 1 & 3 & Exc & percent & 1 &  1.849 & NA\\\\\n",
       "\t 2 & 1 & 3 & Inh & percent & 1 &  1.408 & NA\\\\\n",
       "\t 2 & 2 & 1 & Exc & percent & 1 &  4.988 & NA\\\\\n",
       "\t 2 & 2 & 1 & Inh & percent & 1 &  4.577 & NA\\\\\n",
       "\t 2 & 2 & 2 & Exc & percent & 1 &  3.638 & NA\\\\\n",
       "\t 2 & 2 & 2 & Inh & percent & 1 &  4.460 & NA\\\\\n",
       "\t 2 & 2 & 3 & Exc & percent & 1 &  2.465 & NA\\\\\n",
       "\t 2 & 2 & 3 & Inh & percent & 1 &  4.636 & NA\\\\\n",
       "\t 3 & 1 & 1 & Exc & percent & 1 &  6.032 & NA\\\\\n",
       "\t 3 & 1 & 1 & Inh & percent & 1 &  4.286 & NA\\\\\n",
       "\t 3 & 1 & 2 & Exc & percent & 1 &  0.952 & NA\\\\\n",
       "\t 3 & 1 & 2 & Inh & percent & 1 &  5.714 & NA\\\\\n",
       "\t 3 & 1 & 3 & Exc & percent & 1 &  3.651 & NA\\\\\n",
       "\t 3 & 1 & 3 & Inh & percent & 1 &  3.175 & NA\\\\\n",
       "\t 3 & 2 & 1 & Exc & percent & 1 &  7.725 & NA\\\\\n",
       "\t 3 & 2 & 1 & Inh & percent & 1 &  6.667 & NA\\\\\n",
       "\t 3 & 2 & 2 & Exc & percent & 1 &  4.550 & NA\\\\\n",
       "\t 3 & 2 & 2 & Inh & percent & 1 &  5.926 & NA\\\\\n",
       "\t 3 & 2 & 3 & Exc & percent & 1 &  4.127 & NA\\\\\n",
       "\t 3 & 2 & 3 & Inh & percent & 1 &  5.714 & NA\\\\\n",
       "\t 4 & 1 & 1 & Exc & percent & 1 &  6.805 & NA\\\\\n",
       "\t 4 & 1 & 1 & Inh & percent & 1 &  1.183 & NA\\\\\n",
       "\t 4 & 1 & 2 & Exc & percent & 1 &  0.888 & NA\\\\\n",
       "\t 4 & 1 & 2 & Inh & percent & 1 &  2.811 & NA\\\\\n",
       "\t 4 & 1 & 3 & Exc & percent & 1 &  1.775 & NA\\\\\n",
       "\t 4 & 1 & 3 & Inh & percent & 1 &  1.627 & NA\\\\\n",
       "\t 4 & 2 & 1 & Exc & percent & 1 &  7.101 & NA\\\\\n",
       "\t 4 & 2 & 1 & Inh & percent & 1 &  5.128 & NA\\\\\n",
       "\t 4 & 2 & 2 & Exc & percent & 1 &  6.312 & NA\\\\\n",
       "\t 4 & 2 & 2 & Inh & percent & 1 &  5.128 & NA\\\\\n",
       "\t 4 & 2 & 3 & Exc & percent & 1 &  2.367 & NA\\\\\n",
       "\t 4 & 2 & 3 & Inh & percent & 1 &  3.057 & NA\\\\\n",
       "\t 5 & 1 & 1 & Exc & percent & 1 &  4.826 & NA\\\\\n",
       "\t 5 & 1 & 1 & Inh & percent & 1 &  1.737 & NA\\\\\n",
       "\t 5 & 1 & 2 & Exc & percent & 1 &  1.351 & NA\\\\\n",
       "\t 5 & 1 & 2 & Inh & percent & 1 &  3.861 & NA\\\\\n",
       "\t 5 & 1 & 3 & Exc & percent & 1 &  1.737 & NA\\\\\n",
       "\t 5 & 1 & 3 & Inh & percent & 1 &  1.544 & NA\\\\\n",
       "\t 5 & 2 & 1 & Exc & percent & 1 &  7.207 & NA\\\\\n",
       "\t 5 & 2 & 1 & Inh & percent & 1 &  5.663 & NA\\\\\n",
       "\t 5 & 2 & 2 & Exc & percent & 1 &  4.376 & NA\\\\\n",
       "\t 5 & 2 & 2 & Inh & percent & 1 &  6.950 & NA\\\\\n",
       "\t 5 & 2 & 3 & Exc & percent & 1 &  2.188 & NA\\\\\n",
       "\t 5 & 2 & 3 & Inh & percent & 1 &  2.703 & NA\\\\\n",
       "\\end{tabular}\n"
      ],
      "text/markdown": [
       "\n",
       "A tibble: 60 × 8\n",
       "\n",
       "| Animal &lt;fct&gt; | BrakeState &lt;fct&gt; | EventType &lt;fct&gt; | CellType &lt;fct&gt; | variable &lt;chr&gt; | n &lt;dbl&gt; | mean &lt;dbl&gt; | sd &lt;dbl&gt; |\n",
       "|---|---|---|---|---|---|---|---|\n",
       "| 1 | 1 | 1 | Exc | percent | 1 |  6.136 | NA |\n",
       "| 1 | 1 | 1 | Inh | percent | 1 |  2.073 | NA |\n",
       "| 1 | 1 | 2 | Exc | percent | 1 |  2.405 | NA |\n",
       "| 1 | 1 | 2 | Inh | percent | 1 |  3.317 | NA |\n",
       "| 1 | 1 | 3 | Exc | percent | 1 |  2.322 | NA |\n",
       "| 1 | 1 | 3 | Inh | percent | 1 |  1.410 | NA |\n",
       "| 1 | 2 | 1 | Exc | percent | 1 | 11.443 | NA |\n",
       "| 1 | 2 | 1 | Inh | percent | 1 |  4.312 | NA |\n",
       "| 1 | 2 | 2 | Exc | percent | 1 |  8.513 | NA |\n",
       "| 1 | 2 | 2 | Inh | percent | 1 |  6.357 | NA |\n",
       "| 1 | 2 | 3 | Exc | percent | 1 |  1.714 | NA |\n",
       "| 1 | 2 | 3 | Inh | percent | 1 |  1.769 | NA |\n",
       "| 2 | 1 | 1 | Exc | percent | 1 |  5.898 | NA |\n",
       "| 2 | 1 | 1 | Inh | percent | 1 |  1.585 | NA |\n",
       "| 2 | 1 | 2 | Exc | percent | 1 |  1.232 | NA |\n",
       "| 2 | 1 | 2 | Inh | percent | 1 |  2.641 | NA |\n",
       "| 2 | 1 | 3 | Exc | percent | 1 |  1.849 | NA |\n",
       "| 2 | 1 | 3 | Inh | percent | 1 |  1.408 | NA |\n",
       "| 2 | 2 | 1 | Exc | percent | 1 |  4.988 | NA |\n",
       "| 2 | 2 | 1 | Inh | percent | 1 |  4.577 | NA |\n",
       "| 2 | 2 | 2 | Exc | percent | 1 |  3.638 | NA |\n",
       "| 2 | 2 | 2 | Inh | percent | 1 |  4.460 | NA |\n",
       "| 2 | 2 | 3 | Exc | percent | 1 |  2.465 | NA |\n",
       "| 2 | 2 | 3 | Inh | percent | 1 |  4.636 | NA |\n",
       "| 3 | 1 | 1 | Exc | percent | 1 |  6.032 | NA |\n",
       "| 3 | 1 | 1 | Inh | percent | 1 |  4.286 | NA |\n",
       "| 3 | 1 | 2 | Exc | percent | 1 |  0.952 | NA |\n",
       "| 3 | 1 | 2 | Inh | percent | 1 |  5.714 | NA |\n",
       "| 3 | 1 | 3 | Exc | percent | 1 |  3.651 | NA |\n",
       "| 3 | 1 | 3 | Inh | percent | 1 |  3.175 | NA |\n",
       "| 3 | 2 | 1 | Exc | percent | 1 |  7.725 | NA |\n",
       "| 3 | 2 | 1 | Inh | percent | 1 |  6.667 | NA |\n",
       "| 3 | 2 | 2 | Exc | percent | 1 |  4.550 | NA |\n",
       "| 3 | 2 | 2 | Inh | percent | 1 |  5.926 | NA |\n",
       "| 3 | 2 | 3 | Exc | percent | 1 |  4.127 | NA |\n",
       "| 3 | 2 | 3 | Inh | percent | 1 |  5.714 | NA |\n",
       "| 4 | 1 | 1 | Exc | percent | 1 |  6.805 | NA |\n",
       "| 4 | 1 | 1 | Inh | percent | 1 |  1.183 | NA |\n",
       "| 4 | 1 | 2 | Exc | percent | 1 |  0.888 | NA |\n",
       "| 4 | 1 | 2 | Inh | percent | 1 |  2.811 | NA |\n",
       "| 4 | 1 | 3 | Exc | percent | 1 |  1.775 | NA |\n",
       "| 4 | 1 | 3 | Inh | percent | 1 |  1.627 | NA |\n",
       "| 4 | 2 | 1 | Exc | percent | 1 |  7.101 | NA |\n",
       "| 4 | 2 | 1 | Inh | percent | 1 |  5.128 | NA |\n",
       "| 4 | 2 | 2 | Exc | percent | 1 |  6.312 | NA |\n",
       "| 4 | 2 | 2 | Inh | percent | 1 |  5.128 | NA |\n",
       "| 4 | 2 | 3 | Exc | percent | 1 |  2.367 | NA |\n",
       "| 4 | 2 | 3 | Inh | percent | 1 |  3.057 | NA |\n",
       "| 5 | 1 | 1 | Exc | percent | 1 |  4.826 | NA |\n",
       "| 5 | 1 | 1 | Inh | percent | 1 |  1.737 | NA |\n",
       "| 5 | 1 | 2 | Exc | percent | 1 |  1.351 | NA |\n",
       "| 5 | 1 | 2 | Inh | percent | 1 |  3.861 | NA |\n",
       "| 5 | 1 | 3 | Exc | percent | 1 |  1.737 | NA |\n",
       "| 5 | 1 | 3 | Inh | percent | 1 |  1.544 | NA |\n",
       "| 5 | 2 | 1 | Exc | percent | 1 |  7.207 | NA |\n",
       "| 5 | 2 | 1 | Inh | percent | 1 |  5.663 | NA |\n",
       "| 5 | 2 | 2 | Exc | percent | 1 |  4.376 | NA |\n",
       "| 5 | 2 | 2 | Inh | percent | 1 |  6.950 | NA |\n",
       "| 5 | 2 | 3 | Exc | percent | 1 |  2.188 | NA |\n",
       "| 5 | 2 | 3 | Inh | percent | 1 |  2.703 | NA |\n",
       "\n"
      ],
      "text/plain": [
       "   Animal BrakeState EventType CellType variable n mean   sd\n",
       "1  1      1          1         Exc      percent  1  6.136 NA\n",
       "2  1      1          1         Inh      percent  1  2.073 NA\n",
       "3  1      1          2         Exc      percent  1  2.405 NA\n",
       "4  1      1          2         Inh      percent  1  3.317 NA\n",
       "5  1      1          3         Exc      percent  1  2.322 NA\n",
       "6  1      1          3         Inh      percent  1  1.410 NA\n",
       "7  1      2          1         Exc      percent  1 11.443 NA\n",
       "8  1      2          1         Inh      percent  1  4.312 NA\n",
       "9  1      2          2         Exc      percent  1  8.513 NA\n",
       "10 1      2          2         Inh      percent  1  6.357 NA\n",
       "11 1      2          3         Exc      percent  1  1.714 NA\n",
       "12 1      2          3         Inh      percent  1  1.769 NA\n",
       "13 2      1          1         Exc      percent  1  5.898 NA\n",
       "14 2      1          1         Inh      percent  1  1.585 NA\n",
       "15 2      1          2         Exc      percent  1  1.232 NA\n",
       "16 2      1          2         Inh      percent  1  2.641 NA\n",
       "17 2      1          3         Exc      percent  1  1.849 NA\n",
       "18 2      1          3         Inh      percent  1  1.408 NA\n",
       "19 2      2          1         Exc      percent  1  4.988 NA\n",
       "20 2      2          1         Inh      percent  1  4.577 NA\n",
       "21 2      2          2         Exc      percent  1  3.638 NA\n",
       "22 2      2          2         Inh      percent  1  4.460 NA\n",
       "23 2      2          3         Exc      percent  1  2.465 NA\n",
       "24 2      2          3         Inh      percent  1  4.636 NA\n",
       "25 3      1          1         Exc      percent  1  6.032 NA\n",
       "26 3      1          1         Inh      percent  1  4.286 NA\n",
       "27 3      1          2         Exc      percent  1  0.952 NA\n",
       "28 3      1          2         Inh      percent  1  5.714 NA\n",
       "29 3      1          3         Exc      percent  1  3.651 NA\n",
       "30 3      1          3         Inh      percent  1  3.175 NA\n",
       "31 3      2          1         Exc      percent  1  7.725 NA\n",
       "32 3      2          1         Inh      percent  1  6.667 NA\n",
       "33 3      2          2         Exc      percent  1  4.550 NA\n",
       "34 3      2          2         Inh      percent  1  5.926 NA\n",
       "35 3      2          3         Exc      percent  1  4.127 NA\n",
       "36 3      2          3         Inh      percent  1  5.714 NA\n",
       "37 4      1          1         Exc      percent  1  6.805 NA\n",
       "38 4      1          1         Inh      percent  1  1.183 NA\n",
       "39 4      1          2         Exc      percent  1  0.888 NA\n",
       "40 4      1          2         Inh      percent  1  2.811 NA\n",
       "41 4      1          3         Exc      percent  1  1.775 NA\n",
       "42 4      1          3         Inh      percent  1  1.627 NA\n",
       "43 4      2          1         Exc      percent  1  7.101 NA\n",
       "44 4      2          1         Inh      percent  1  5.128 NA\n",
       "45 4      2          2         Exc      percent  1  6.312 NA\n",
       "46 4      2          2         Inh      percent  1  5.128 NA\n",
       "47 4      2          3         Exc      percent  1  2.367 NA\n",
       "48 4      2          3         Inh      percent  1  3.057 NA\n",
       "49 5      1          1         Exc      percent  1  4.826 NA\n",
       "50 5      1          1         Inh      percent  1  1.737 NA\n",
       "51 5      1          2         Exc      percent  1  1.351 NA\n",
       "52 5      1          2         Inh      percent  1  3.861 NA\n",
       "53 5      1          3         Exc      percent  1  1.737 NA\n",
       "54 5      1          3         Inh      percent  1  1.544 NA\n",
       "55 5      2          1         Exc      percent  1  7.207 NA\n",
       "56 5      2          1         Inh      percent  1  5.663 NA\n",
       "57 5      2          2         Exc      percent  1  4.376 NA\n",
       "58 5      2          2         Inh      percent  1  6.950 NA\n",
       "59 5      2          3         Exc      percent  1  2.188 NA\n",
       "60 5      2          3         Inh      percent  1  2.703 NA"
      ]
     },
     "metadata": {},
     "output_type": "display_data"
    }
   ],
   "source": [
    "print(varname)\n",
    "data %>%\n",
    "  group_by(Animal,BrakeState,EventType,CellType) %>%\n",
    "  get_summary_stats(percent,type = \"mean_sd\")"
   ]
  },
  {
   "cell_type": "code",
   "execution_count": 49,
   "metadata": {},
   "outputs": [
    {
     "data": {
      "image/png": "[encoded data removed]",
      "text/plain": [
       "plot without title"
      ]
     },
     "metadata": {
      "image/png": {
       "height": 420,
       "width": 420
      }
     },
     "output_type": "display_data"
    }
   ],
   "source": [
    "bxp <- ggboxplot(\n",
    "  data, x = \"BrakeState\", y = \"percent\",\n",
    "  color = \"CellType\", palette = \"jco\",\n",
    "  facet.by = \"EventType\", short.panel.labs = FALSE\n",
    "  )\n",
    "bxp"
   ]
  },
  {
   "cell_type": "code",
   "execution_count": 51,
   "metadata": {},
   "outputs": [
    {
     "data": {
      "text/html": [
       "<table class=\"dataframe\">\n",
       "<caption>A tibble: 11 × 7</caption>\n",
       "<thead>\n",
       "\t<tr><th scope=col>BrakeState</th><th scope=col>EventType</th><th scope=col>CellType</th><th scope=col>Animal</th><th scope=col>percent</th><th scope=col>is.outlier</th><th scope=col>is.extreme</th></tr>\n",
       "\t<tr><th scope=col>&lt;fct&gt;</th><th scope=col>&lt;fct&gt;</th><th scope=col>&lt;fct&gt;</th><th scope=col>&lt;fct&gt;</th><th scope=col>&lt;dbl&gt;</th><th scope=col>&lt;lgl&gt;</th><th scope=col>&lt;lgl&gt;</th></tr>\n",
       "</thead>\n",
       "<tbody>\n",
       "\t<tr><td>1</td><td>1</td><td>Exc</td><td>4</td><td> 6.804734</td><td>TRUE</td><td>FALSE</td></tr>\n",
       "\t<tr><td>1</td><td>1</td><td>Exc</td><td>5</td><td> 4.826255</td><td>TRUE</td><td> TRUE</td></tr>\n",
       "\t<tr><td>1</td><td>1</td><td>Inh</td><td>3</td><td> 4.285714</td><td>TRUE</td><td> TRUE</td></tr>\n",
       "\t<tr><td>2</td><td>1</td><td>Exc</td><td>1</td><td>11.442786</td><td>TRUE</td><td> TRUE</td></tr>\n",
       "\t<tr><td>2</td><td>1</td><td>Exc</td><td>2</td><td> 4.988263</td><td>TRUE</td><td> TRUE</td></tr>\n",
       "\t<tr><td>1</td><td>2</td><td>Exc</td><td>1</td><td> 2.404643</td><td>TRUE</td><td>FALSE</td></tr>\n",
       "\t<tr><td>1</td><td>2</td><td>Inh</td><td>3</td><td> 5.714286</td><td>TRUE</td><td>FALSE</td></tr>\n",
       "\t<tr><td>1</td><td>3</td><td>Exc</td><td>3</td><td> 3.650794</td><td>TRUE</td><td>FALSE</td></tr>\n",
       "\t<tr><td>1</td><td>3</td><td>Inh</td><td>3</td><td> 3.174603</td><td>TRUE</td><td> TRUE</td></tr>\n",
       "\t<tr><td>2</td><td>3</td><td>Exc</td><td>1</td><td> 1.713654</td><td>TRUE</td><td>FALSE</td></tr>\n",
       "\t<tr><td>2</td><td>3</td><td>Exc</td><td>3</td><td> 4.126984</td><td>TRUE</td><td> TRUE</td></tr>\n",
       "</tbody>\n",
       "</table>\n"
      ],
      "text/latex": [
       "A tibble: 11 × 7\n",
       "\\begin{tabular}{lllllll}\n",
       " BrakeState & EventType & CellType & Animal & percent & is.outlier & is.extreme\\\\\n",
       " <fct> & <fct> & <fct> & <fct> & <dbl> & <lgl> & <lgl>\\\\\n",
       "\\hline\n",
       "\t 1 & 1 & Exc & 4 &  6.804734 & TRUE & FALSE\\\\\n",
       "\t 1 & 1 & Exc & 5 &  4.826255 & TRUE &  TRUE\\\\\n",
       "\t 1 & 1 & Inh & 3 &  4.285714 & TRUE &  TRUE\\\\\n",
       "\t 2 & 1 & Exc & 1 & 11.442786 & TRUE &  TRUE\\\\\n",
       "\t 2 & 1 & Exc & 2 &  4.988263 & TRUE &  TRUE\\\\\n",
       "\t 1 & 2 & Exc & 1 &  2.404643 & TRUE & FALSE\\\\\n",
       "\t 1 & 2 & Inh & 3 &  5.714286 & TRUE & FALSE\\\\\n",
       "\t 1 & 3 & Exc & 3 &  3.650794 & TRUE & FALSE\\\\\n",
       "\t 1 & 3 & Inh & 3 &  3.174603 & TRUE &  TRUE\\\\\n",
       "\t 2 & 3 & Exc & 1 &  1.713654 & TRUE & FALSE\\\\\n",
       "\t 2 & 3 & Exc & 3 &  4.126984 & TRUE &  TRUE\\\\\n",
       "\\end{tabular}\n"
      ],
      "text/markdown": [
       "\n",
       "A tibble: 11 × 7\n",
       "\n",
       "| BrakeState &lt;fct&gt; | EventType &lt;fct&gt; | CellType &lt;fct&gt; | Animal &lt;fct&gt; | percent &lt;dbl&gt; | is.outlier &lt;lgl&gt; | is.extreme &lt;lgl&gt; |\n",
       "|---|---|---|---|---|---|---|\n",
       "| 1 | 1 | Exc | 4 |  6.804734 | TRUE | FALSE |\n",
       "| 1 | 1 | Exc | 5 |  4.826255 | TRUE |  TRUE |\n",
       "| 1 | 1 | Inh | 3 |  4.285714 | TRUE |  TRUE |\n",
       "| 2 | 1 | Exc | 1 | 11.442786 | TRUE |  TRUE |\n",
       "| 2 | 1 | Exc | 2 |  4.988263 | TRUE |  TRUE |\n",
       "| 1 | 2 | Exc | 1 |  2.404643 | TRUE | FALSE |\n",
       "| 1 | 2 | Inh | 3 |  5.714286 | TRUE | FALSE |\n",
       "| 1 | 3 | Exc | 3 |  3.650794 | TRUE | FALSE |\n",
       "| 1 | 3 | Inh | 3 |  3.174603 | TRUE |  TRUE |\n",
       "| 2 | 3 | Exc | 1 |  1.713654 | TRUE | FALSE |\n",
       "| 2 | 3 | Exc | 3 |  4.126984 | TRUE |  TRUE |\n",
       "\n"
      ],
      "text/plain": [
       "   BrakeState EventType CellType Animal percent   is.outlier is.extreme\n",
       "1  1          1         Exc      4       6.804734 TRUE       FALSE     \n",
       "2  1          1         Exc      5       4.826255 TRUE        TRUE     \n",
       "3  1          1         Inh      3       4.285714 TRUE        TRUE     \n",
       "4  2          1         Exc      1      11.442786 TRUE        TRUE     \n",
       "5  2          1         Exc      2       4.988263 TRUE        TRUE     \n",
       "6  1          2         Exc      1       2.404643 TRUE       FALSE     \n",
       "7  1          2         Inh      3       5.714286 TRUE       FALSE     \n",
       "8  1          3         Exc      3       3.650794 TRUE       FALSE     \n",
       "9  1          3         Inh      3       3.174603 TRUE        TRUE     \n",
       "10 2          3         Exc      1       1.713654 TRUE       FALSE     \n",
       "11 2          3         Exc      3       4.126984 TRUE        TRUE     "
      ]
     },
     "metadata": {},
     "output_type": "display_data"
    }
   ],
   "source": [
    "data %>%\n",
    "  group_by(EventType, BrakeState, CellType) %>%\n",
    "  identify_outliers(percent)"
   ]
  },
  {
   "cell_type": "code",
   "execution_count": 52,
   "metadata": {},
   "outputs": [
    {
     "data": {
      "text/html": [
       "<table class=\"dataframe\">\n",
       "<caption>A tibble: 12 × 6</caption>\n",
       "<thead>\n",
       "\t<tr><th scope=col>BrakeState</th><th scope=col>EventType</th><th scope=col>CellType</th><th scope=col>variable</th><th scope=col>statistic</th><th scope=col>p</th></tr>\n",
       "\t<tr><th scope=col>&lt;fct&gt;</th><th scope=col>&lt;fct&gt;</th><th scope=col>&lt;fct&gt;</th><th scope=col>&lt;chr&gt;</th><th scope=col>&lt;dbl&gt;</th><th scope=col>&lt;dbl&gt;</th></tr>\n",
       "</thead>\n",
       "<tbody>\n",
       "\t<tr><td>1</td><td>1</td><td>Exc</td><td>percent</td><td>0.9247867</td><td>0.561276833</td></tr>\n",
       "\t<tr><td>1</td><td>1</td><td>Inh</td><td>percent</td><td>0.7933926</td><td>0.071506623</td></tr>\n",
       "\t<tr><td>2</td><td>1</td><td>Exc</td><td>percent</td><td>0.8977673</td><td>0.397668861</td></tr>\n",
       "\t<tr><td>2</td><td>1</td><td>Inh</td><td>percent</td><td>0.9476161</td><td>0.720151437</td></tr>\n",
       "\t<tr><td>1</td><td>2</td><td>Exc</td><td>percent</td><td>0.8151564</td><td>0.107076966</td></tr>\n",
       "\t<tr><td>1</td><td>2</td><td>Inh</td><td>percent</td><td>0.8590299</td><td>0.224786264</td></tr>\n",
       "\t<tr><td>2</td><td>2</td><td>Exc</td><td>percent</td><td>0.8943421</td><td>0.379408605</td></tr>\n",
       "\t<tr><td>2</td><td>2</td><td>Inh</td><td>percent</td><td>0.9792470</td><td>0.930550246</td></tr>\n",
       "\t<tr><td>1</td><td>3</td><td>Exc</td><td>percent</td><td>0.7533038</td><td>0.031926123</td></tr>\n",
       "\t<tr><td>1</td><td>3</td><td>Inh</td><td>percent</td><td>0.6581950</td><td>0.003319743</td></tr>\n",
       "\t<tr><td>2</td><td>3</td><td>Exc</td><td>percent</td><td>0.8318784</td><td>0.143693616</td></tr>\n",
       "\t<tr><td>2</td><td>3</td><td>Inh</td><td>percent</td><td>0.9547488</td><td>0.771027370</td></tr>\n",
       "</tbody>\n",
       "</table>\n"
      ],
      "text/latex": [
       "A tibble: 12 × 6\n",
       "\\begin{tabular}{llllll}\n",
       " BrakeState & EventType & CellType & variable & statistic & p\\\\\n",
       " <fct> & <fct> & <fct> & <chr> & <dbl> & <dbl>\\\\\n",
       "\\hline\n",
       "\t 1 & 1 & Exc & percent & 0.9247867 & 0.561276833\\\\\n",
       "\t 1 & 1 & Inh & percent & 0.7933926 & 0.071506623\\\\\n",
       "\t 2 & 1 & Exc & percent & 0.8977673 & 0.397668861\\\\\n",
       "\t 2 & 1 & Inh & percent & 0.9476161 & 0.720151437\\\\\n",
       "\t 1 & 2 & Exc & percent & 0.8151564 & 0.107076966\\\\\n",
       "\t 1 & 2 & Inh & percent & 0.8590299 & 0.224786264\\\\\n",
       "\t 2 & 2 & Exc & percent & 0.8943421 & 0.379408605\\\\\n",
       "\t 2 & 2 & Inh & percent & 0.9792470 & 0.930550246\\\\\n",
       "\t 1 & 3 & Exc & percent & 0.7533038 & 0.031926123\\\\\n",
       "\t 1 & 3 & Inh & percent & 0.6581950 & 0.003319743\\\\\n",
       "\t 2 & 3 & Exc & percent & 0.8318784 & 0.143693616\\\\\n",
       "\t 2 & 3 & Inh & percent & 0.9547488 & 0.771027370\\\\\n",
       "\\end{tabular}\n"
      ],
      "text/markdown": [
       "\n",
       "A tibble: 12 × 6\n",
       "\n",
       "| BrakeState &lt;fct&gt; | EventType &lt;fct&gt; | CellType &lt;fct&gt; | variable &lt;chr&gt; | statistic &lt;dbl&gt; | p &lt;dbl&gt; |\n",
       "|---|---|---|---|---|---|\n",
       "| 1 | 1 | Exc | percent | 0.9247867 | 0.561276833 |\n",
       "| 1 | 1 | Inh | percent | 0.7933926 | 0.071506623 |\n",
       "| 2 | 1 | Exc | percent | 0.8977673 | 0.397668861 |\n",
       "| 2 | 1 | Inh | percent | 0.9476161 | 0.720151437 |\n",
       "| 1 | 2 | Exc | percent | 0.8151564 | 0.107076966 |\n",
       "| 1 | 2 | Inh | percent | 0.8590299 | 0.224786264 |\n",
       "| 2 | 2 | Exc | percent | 0.8943421 | 0.379408605 |\n",
       "| 2 | 2 | Inh | percent | 0.9792470 | 0.930550246 |\n",
       "| 1 | 3 | Exc | percent | 0.7533038 | 0.031926123 |\n",
       "| 1 | 3 | Inh | percent | 0.6581950 | 0.003319743 |\n",
       "| 2 | 3 | Exc | percent | 0.8318784 | 0.143693616 |\n",
       "| 2 | 3 | Inh | percent | 0.9547488 | 0.771027370 |\n",
       "\n"
      ],
      "text/plain": [
       "   BrakeState EventType CellType variable statistic p          \n",
       "1  1          1         Exc      percent  0.9247867 0.561276833\n",
       "2  1          1         Inh      percent  0.7933926 0.071506623\n",
       "3  2          1         Exc      percent  0.8977673 0.397668861\n",
       "4  2          1         Inh      percent  0.9476161 0.720151437\n",
       "5  1          2         Exc      percent  0.8151564 0.107076966\n",
       "6  1          2         Inh      percent  0.8590299 0.224786264\n",
       "7  2          2         Exc      percent  0.8943421 0.379408605\n",
       "8  2          2         Inh      percent  0.9792470 0.930550246\n",
       "9  1          3         Exc      percent  0.7533038 0.031926123\n",
       "10 1          3         Inh      percent  0.6581950 0.003319743\n",
       "11 2          3         Exc      percent  0.8318784 0.143693616\n",
       "12 2          3         Inh      percent  0.9547488 0.771027370"
      ]
     },
     "metadata": {},
     "output_type": "display_data"
    }
   ],
   "source": [
    "data %>%\n",
    "  group_by(EventType, BrakeState, CellType) %>%\n",
    "  shapiro_test(percent)"
   ]
  },
  {
   "cell_type": "code",
   "execution_count": 55,
   "metadata": {
    "scrolled": true
   },
   "outputs": [
    {
     "data": {
      "image/png": "[encoded data removed]",
      "text/plain": [
       "plot without title"
      ]
     },
     "metadata": {
      "image/png": {
       "height": 420,
       "width": 420
      }
     },
     "output_type": "display_data"
    }
   ],
   "source": [
    "ggqqplot(data, \"percent\", ggtheme = theme_bw()) +\n",
    "  facet_grid(EventType + BrakeState ~ CellType, labeller = \"label_both\")"
   ]
  },
  {
   "cell_type": "code",
   "execution_count": 57,
   "metadata": {},
   "outputs": [
    {
     "data": {
      "text/html": [
       "<table class=\"dataframe\">\n",
       "<caption>A tibble: 6 × 6</caption>\n",
       "<thead>\n",
       "\t<tr><th scope=col>EventType</th><th scope=col>CellType</th><th scope=col>df1</th><th scope=col>df2</th><th scope=col>statistic</th><th scope=col>p</th></tr>\n",
       "\t<tr><th scope=col>&lt;fct&gt;</th><th scope=col>&lt;fct&gt;</th><th scope=col>&lt;int&gt;</th><th scope=col>&lt;int&gt;</th><th scope=col>&lt;dbl&gt;</th><th scope=col>&lt;dbl&gt;</th></tr>\n",
       "</thead>\n",
       "<tbody>\n",
       "\t<tr><td>1</td><td>Exc</td><td>1</td><td>8</td><td>1.330196851</td><td>0.2820625</td></tr>\n",
       "\t<tr><td>1</td><td>Inh</td><td>1</td><td>8</td><td>0.003228514</td><td>0.9560821</td></tr>\n",
       "\t<tr><td>2</td><td>Exc</td><td>1</td><td>8</td><td>1.704509316</td><td>0.2279917</td></tr>\n",
       "\t<tr><td>2</td><td>Inh</td><td>1</td><td>8</td><td>0.028490493</td><td>0.8701504</td></tr>\n",
       "\t<tr><td>3</td><td>Exc</td><td>1</td><td>8</td><td>0.009647151</td><td>0.9241740</td></tr>\n",
       "\t<tr><td>3</td><td>Inh</td><td>1</td><td>8</td><td>1.914237292</td><td>0.2038719</td></tr>\n",
       "</tbody>\n",
       "</table>\n"
      ],
      "text/latex": [
       "A tibble: 6 × 6\n",
       "\\begin{tabular}{llllll}\n",
       " EventType & CellType & df1 & df2 & statistic & p\\\\\n",
       " <fct> & <fct> & <int> & <int> & <dbl> & <dbl>\\\\\n",
       "\\hline\n",
       "\t 1 & Exc & 1 & 8 & 1.330196851 & 0.2820625\\\\\n",
       "\t 1 & Inh & 1 & 8 & 0.003228514 & 0.9560821\\\\\n",
       "\t 2 & Exc & 1 & 8 & 1.704509316 & 0.2279917\\\\\n",
       "\t 2 & Inh & 1 & 8 & 0.028490493 & 0.8701504\\\\\n",
       "\t 3 & Exc & 1 & 8 & 0.009647151 & 0.9241740\\\\\n",
       "\t 3 & Inh & 1 & 8 & 1.914237292 & 0.2038719\\\\\n",
       "\\end{tabular}\n"
      ],
      "text/markdown": [
       "\n",
       "A tibble: 6 × 6\n",
       "\n",
       "| EventType &lt;fct&gt; | CellType &lt;fct&gt; | df1 &lt;int&gt; | df2 &lt;int&gt; | statistic &lt;dbl&gt; | p &lt;dbl&gt; |\n",
       "|---|---|---|---|---|---|\n",
       "| 1 | Exc | 1 | 8 | 1.330196851 | 0.2820625 |\n",
       "| 1 | Inh | 1 | 8 | 0.003228514 | 0.9560821 |\n",
       "| 2 | Exc | 1 | 8 | 1.704509316 | 0.2279917 |\n",
       "| 2 | Inh | 1 | 8 | 0.028490493 | 0.8701504 |\n",
       "| 3 | Exc | 1 | 8 | 0.009647151 | 0.9241740 |\n",
       "| 3 | Inh | 1 | 8 | 1.914237292 | 0.2038719 |\n",
       "\n"
      ],
      "text/plain": [
       "  EventType CellType df1 df2 statistic   p        \n",
       "1 1         Exc      1   8   1.330196851 0.2820625\n",
       "2 1         Inh      1   8   0.003228514 0.9560821\n",
       "3 2         Exc      1   8   1.704509316 0.2279917\n",
       "4 2         Inh      1   8   0.028490493 0.8701504\n",
       "5 3         Exc      1   8   0.009647151 0.9241740\n",
       "6 3         Inh      1   8   1.914237292 0.2038719"
      ]
     },
     "metadata": {},
     "output_type": "display_data"
    }
   ],
   "source": [
    "data %>%\n",
    "  group_by(EventType, CellType) %>%\n",
    "  levene_test(percent ~ BrakeState)"
   ]
  },
  {
   "cell_type": "code",
   "execution_count": 58,
   "metadata": {},
   "outputs": [
    {
     "data": {
      "text/html": [
       "<table class=\"dataframe\">\n",
       "<caption>A anova_test: 7 × 7</caption>\n",
       "<thead>\n",
       "\t<tr><th></th><th scope=col>Effect</th><th scope=col>DFn</th><th scope=col>DFd</th><th scope=col>F</th><th scope=col>p</th><th scope=col>p&lt;.05</th><th scope=col>ges</th></tr>\n",
       "\t<tr><th></th><th scope=col>&lt;chr&gt;</th><th scope=col>&lt;dbl&gt;</th><th scope=col>&lt;dbl&gt;</th><th scope=col>&lt;dbl&gt;</th><th scope=col>&lt;dbl&gt;</th><th scope=col>&lt;chr&gt;</th><th scope=col>&lt;dbl&gt;</th></tr>\n",
       "</thead>\n",
       "<tbody>\n",
       "\t<tr><th scope=row>1</th><td>BrakeState                   </td><td>1</td><td>4</td><td>130.121</td><td>3.37e-04</td><td>*</td><td>0.476</td></tr>\n",
       "\t<tr><th scope=row>2</th><td>EventType                    </td><td>2</td><td>8</td><td> 19.216</td><td>8.81e-04</td><td>*</td><td>0.483</td></tr>\n",
       "\t<tr><th scope=row>3</th><td>CellType                     </td><td>1</td><td>4</td><td>  0.959</td><td>3.83e-01</td><td> </td><td>0.046</td></tr>\n",
       "\t<tr><th scope=row>4</th><td>BrakeState:EventType         </td><td>2</td><td>8</td><td>  4.552</td><td>4.80e-02</td><td>*</td><td>0.125</td></tr>\n",
       "\t<tr><th scope=row>5</th><td>BrakeState:CellType          </td><td>1</td><td>4</td><td>  0.175</td><td>6.97e-01</td><td> </td><td>0.003</td></tr>\n",
       "\t<tr><th scope=row>6</th><td>EventType:CellType           </td><td>2</td><td>8</td><td> 42.335</td><td>5.55e-05</td><td>*</td><td>0.402</td></tr>\n",
       "\t<tr><th scope=row>7</th><td>BrakeState:EventType:CellType</td><td>2</td><td>8</td><td>  6.727</td><td>1.90e-02</td><td>*</td><td>0.110</td></tr>\n",
       "</tbody>\n",
       "</table>\n"
      ],
      "text/latex": [
       "A anova\\_test: 7 × 7\n",
       "\\begin{tabular}{r|lllllll}\n",
       "  & Effect & DFn & DFd & F & p & p<.05 & ges\\\\\n",
       "  & <chr> & <dbl> & <dbl> & <dbl> & <dbl> & <chr> & <dbl>\\\\\n",
       "\\hline\n",
       "\t1 & BrakeState                    & 1 & 4 & 130.121 & 3.37e-04 & * & 0.476\\\\\n",
       "\t2 & EventType                     & 2 & 8 &  19.216 & 8.81e-04 & * & 0.483\\\\\n",
       "\t3 & CellType                      & 1 & 4 &   0.959 & 3.83e-01 &   & 0.046\\\\\n",
       "\t4 & BrakeState:EventType          & 2 & 8 &   4.552 & 4.80e-02 & * & 0.125\\\\\n",
       "\t5 & BrakeState:CellType           & 1 & 4 &   0.175 & 6.97e-01 &   & 0.003\\\\\n",
       "\t6 & EventType:CellType            & 2 & 8 &  42.335 & 5.55e-05 & * & 0.402\\\\\n",
       "\t7 & BrakeState:EventType:CellType & 2 & 8 &   6.727 & 1.90e-02 & * & 0.110\\\\\n",
       "\\end{tabular}\n"
      ],
      "text/markdown": [
       "\n",
       "A anova_test: 7 × 7\n",
       "\n",
       "| <!--/--> | Effect &lt;chr&gt; | DFn &lt;dbl&gt; | DFd &lt;dbl&gt; | F &lt;dbl&gt; | p &lt;dbl&gt; | p&lt;.05 &lt;chr&gt; | ges &lt;dbl&gt; |\n",
       "|---|---|---|---|---|---|---|---|\n",
       "| 1 | BrakeState                    | 1 | 4 | 130.121 | 3.37e-04 | * | 0.476 |\n",
       "| 2 | EventType                     | 2 | 8 |  19.216 | 8.81e-04 | * | 0.483 |\n",
       "| 3 | CellType                      | 1 | 4 |   0.959 | 3.83e-01 | <!----> | 0.046 |\n",
       "| 4 | BrakeState:EventType          | 2 | 8 |   4.552 | 4.80e-02 | * | 0.125 |\n",
       "| 5 | BrakeState:CellType           | 1 | 4 |   0.175 | 6.97e-01 | <!----> | 0.003 |\n",
       "| 6 | EventType:CellType            | 2 | 8 |  42.335 | 5.55e-05 | * | 0.402 |\n",
       "| 7 | BrakeState:EventType:CellType | 2 | 8 |   6.727 | 1.90e-02 | * | 0.110 |\n",
       "\n"
      ],
      "text/plain": [
       "  Effect                        DFn DFd F       p        p<.05 ges  \n",
       "1 BrakeState                    1   4   130.121 3.37e-04 *     0.476\n",
       "2 EventType                     2   8    19.216 8.81e-04 *     0.483\n",
       "3 CellType                      1   4     0.959 3.83e-01       0.046\n",
       "4 BrakeState:EventType          2   8     4.552 4.80e-02 *     0.125\n",
       "5 BrakeState:CellType           1   4     0.175 6.97e-01       0.003\n",
       "6 EventType:CellType            2   8    42.335 5.55e-05 *     0.402\n",
       "7 BrakeState:EventType:CellType 2   8     6.727 1.90e-02 *     0.110"
      ]
     },
     "metadata": {},
     "output_type": "display_data"
    }
   ],
   "source": [
    "res.aov <- anova_test(\n",
    "  data = data, dv = percent, wid = Animal,\n",
    "  within = c(BrakeState,EventType, CellType)\n",
    "  )\n",
    "get_anova_table(res.aov)"
   ]
  },
  {
   "cell_type": "code",
   "execution_count": 61,
   "metadata": {},
   "outputs": [
    {
     "data": {
      "text/html": [
       "<table class=\"dataframe\">\n",
       "<caption>A tibble: 6 × 8</caption>\n",
       "<thead>\n",
       "\t<tr><th scope=col>BrakeState</th><th scope=col>Effect</th><th scope=col>DFn</th><th scope=col>DFd</th><th scope=col>F</th><th scope=col>p</th><th scope=col>p&lt;.05</th><th scope=col>ges</th></tr>\n",
       "\t<tr><th scope=col>&lt;fct&gt;</th><th scope=col>&lt;chr&gt;</th><th scope=col>&lt;dbl&gt;</th><th scope=col>&lt;dbl&gt;</th><th scope=col>&lt;dbl&gt;</th><th scope=col>&lt;dbl&gt;</th><th scope=col>&lt;chr&gt;</th><th scope=col>&lt;dbl&gt;</th></tr>\n",
       "</thead>\n",
       "<tbody>\n",
       "\t<tr><td>1</td><td>EventType         </td><td>2</td><td>8</td><td>49.832</td><td>3.05e-05</td><td>*</td><td>0.517</td></tr>\n",
       "\t<tr><td>1</td><td>CellType          </td><td>1</td><td>4</td><td> 2.283</td><td>2.05e-01</td><td> </td><td>0.127</td></tr>\n",
       "\t<tr><td>1</td><td>EventType:CellType</td><td>2</td><td>8</td><td>51.367</td><td>2.72e-05</td><td>*</td><td>0.692</td></tr>\n",
       "\t<tr><td>2</td><td>EventType         </td><td>2</td><td>8</td><td>10.718</td><td>5.00e-03</td><td>*</td><td>0.519</td></tr>\n",
       "\t<tr><td>2</td><td>CellType          </td><td>1</td><td>4</td><td> 0.263</td><td>6.35e-01</td><td> </td><td>0.018</td></tr>\n",
       "\t<tr><td>2</td><td>EventType:CellType</td><td>2</td><td>8</td><td> 9.137</td><td>9.00e-03</td><td>*</td><td>0.219</td></tr>\n",
       "</tbody>\n",
       "</table>\n"
      ],
      "text/latex": [
       "A tibble: 6 × 8\n",
       "\\begin{tabular}{llllllll}\n",
       " BrakeState & Effect & DFn & DFd & F & p & p<.05 & ges\\\\\n",
       " <fct> & <chr> & <dbl> & <dbl> & <dbl> & <dbl> & <chr> & <dbl>\\\\\n",
       "\\hline\n",
       "\t 1 & EventType          & 2 & 8 & 49.832 & 3.05e-05 & * & 0.517\\\\\n",
       "\t 1 & CellType           & 1 & 4 &  2.283 & 2.05e-01 &   & 0.127\\\\\n",
       "\t 1 & EventType:CellType & 2 & 8 & 51.367 & 2.72e-05 & * & 0.692\\\\\n",
       "\t 2 & EventType          & 2 & 8 & 10.718 & 5.00e-03 & * & 0.519\\\\\n",
       "\t 2 & CellType           & 1 & 4 &  0.263 & 6.35e-01 &   & 0.018\\\\\n",
       "\t 2 & EventType:CellType & 2 & 8 &  9.137 & 9.00e-03 & * & 0.219\\\\\n",
       "\\end{tabular}\n"
      ],
      "text/markdown": [
       "\n",
       "A tibble: 6 × 8\n",
       "\n",
       "| BrakeState &lt;fct&gt; | Effect &lt;chr&gt; | DFn &lt;dbl&gt; | DFd &lt;dbl&gt; | F &lt;dbl&gt; | p &lt;dbl&gt; | p&lt;.05 &lt;chr&gt; | ges &lt;dbl&gt; |\n",
       "|---|---|---|---|---|---|---|---|\n",
       "| 1 | EventType          | 2 | 8 | 49.832 | 3.05e-05 | * | 0.517 |\n",
       "| 1 | CellType           | 1 | 4 |  2.283 | 2.05e-01 | <!----> | 0.127 |\n",
       "| 1 | EventType:CellType | 2 | 8 | 51.367 | 2.72e-05 | * | 0.692 |\n",
       "| 2 | EventType          | 2 | 8 | 10.718 | 5.00e-03 | * | 0.519 |\n",
       "| 2 | CellType           | 1 | 4 |  0.263 | 6.35e-01 | <!----> | 0.018 |\n",
       "| 2 | EventType:CellType | 2 | 8 |  9.137 | 9.00e-03 | * | 0.219 |\n",
       "\n"
      ],
      "text/plain": [
       "  BrakeState Effect             DFn DFd F      p        p<.05 ges  \n",
       "1 1          EventType          2   8   49.832 3.05e-05 *     0.517\n",
       "2 1          CellType           1   4    2.283 2.05e-01       0.127\n",
       "3 1          EventType:CellType 2   8   51.367 2.72e-05 *     0.692\n",
       "4 2          EventType          2   8   10.718 5.00e-03 *     0.519\n",
       "5 2          CellType           1   4    0.263 6.35e-01       0.018\n",
       "6 2          EventType:CellType 2   8    9.137 9.00e-03 *     0.219"
      ]
     },
     "metadata": {},
     "output_type": "display_data"
    }
   ],
   "source": [
    "# Two-way ANOVA at each diet level\n",
    "two.way <- data %>%\n",
    "  group_by(BrakeState) %>%\n",
    "  anova_test(dv = percent, wid = Animal, within = c(EventType, CellType))\n",
    "get_anova_table(two.way)"
   ]
  },
  {
   "cell_type": "code",
   "execution_count": 64,
   "metadata": {},
   "outputs": [
    {
     "data": {
      "text/html": [
       "<table class=\"dataframe\">\n",
       "<caption>A grouped_anova_test: 6 × 9</caption>\n",
       "<thead>\n",
       "\t<tr><th></th><th scope=col>BrakeState</th><th scope=col>EventType</th><th scope=col>Effect</th><th scope=col>DFn</th><th scope=col>DFd</th><th scope=col>F</th><th scope=col>p</th><th scope=col>p&lt;.05</th><th scope=col>ges</th></tr>\n",
       "\t<tr><th></th><th scope=col>&lt;fct&gt;</th><th scope=col>&lt;fct&gt;</th><th scope=col>&lt;chr&gt;</th><th scope=col>&lt;dbl&gt;</th><th scope=col>&lt;dbl&gt;</th><th scope=col>&lt;dbl&gt;</th><th scope=col>&lt;dbl&gt;</th><th scope=col>&lt;chr&gt;</th><th scope=col>&lt;dbl&gt;</th></tr>\n",
       "</thead>\n",
       "<tbody>\n",
       "\t<tr><th scope=row>1</th><td>1</td><td>1</td><td>CellType</td><td>1</td><td>4</td><td>33.903</td><td>0.004</td><td>*</td><td>0.815</td></tr>\n",
       "\t<tr><th scope=row>2</th><td>1</td><td>2</td><td>CellType</td><td>1</td><td>4</td><td>11.829</td><td>0.026</td><td>*</td><td>0.635</td></tr>\n",
       "\t<tr><th scope=row>3</th><td>1</td><td>3</td><td>CellType</td><td>1</td><td>4</td><td>10.168</td><td>0.033</td><td>*</td><td>0.088</td></tr>\n",
       "\t<tr><th scope=row>4</th><td>2</td><td>1</td><td>CellType</td><td>1</td><td>4</td><td> 4.043</td><td>0.115</td><td> </td><td>0.365</td></tr>\n",
       "\t<tr><th scope=row>5</th><td>2</td><td>2</td><td>CellType</td><td>1</td><td>4</td><td> 0.111</td><td>0.756</td><td> </td><td>0.011</td></tr>\n",
       "\t<tr><th scope=row>6</th><td>2</td><td>3</td><td>CellType</td><td>1</td><td>4</td><td> 6.853</td><td>0.059</td><td> </td><td>0.159</td></tr>\n",
       "</tbody>\n",
       "</table>\n"
      ],
      "text/latex": [
       "A grouped\\_anova\\_test: 6 × 9\n",
       "\\begin{tabular}{r|lllllllll}\n",
       "  & BrakeState & EventType & Effect & DFn & DFd & F & p & p<.05 & ges\\\\\n",
       "  & <fct> & <fct> & <chr> & <dbl> & <dbl> & <dbl> & <dbl> & <chr> & <dbl>\\\\\n",
       "\\hline\n",
       "\t1 & 1 & 1 & CellType & 1 & 4 & 33.903 & 0.004 & * & 0.815\\\\\n",
       "\t2 & 1 & 2 & CellType & 1 & 4 & 11.829 & 0.026 & * & 0.635\\\\\n",
       "\t3 & 1 & 3 & CellType & 1 & 4 & 10.168 & 0.033 & * & 0.088\\\\\n",
       "\t4 & 2 & 1 & CellType & 1 & 4 &  4.043 & 0.115 &   & 0.365\\\\\n",
       "\t5 & 2 & 2 & CellType & 1 & 4 &  0.111 & 0.756 &   & 0.011\\\\\n",
       "\t6 & 2 & 3 & CellType & 1 & 4 &  6.853 & 0.059 &   & 0.159\\\\\n",
       "\\end{tabular}\n"
      ],
      "text/markdown": [
       "\n",
       "A grouped_anova_test: 6 × 9\n",
       "\n",
       "| <!--/--> | BrakeState &lt;fct&gt; | EventType &lt;fct&gt; | Effect &lt;chr&gt; | DFn &lt;dbl&gt; | DFd &lt;dbl&gt; | F &lt;dbl&gt; | p &lt;dbl&gt; | p&lt;.05 &lt;chr&gt; | ges &lt;dbl&gt; |\n",
       "|---|---|---|---|---|---|---|---|---|---|\n",
       "| 1 | 1 | 1 | CellType | 1 | 4 | 33.903 | 0.004 | * | 0.815 |\n",
       "| 2 | 1 | 2 | CellType | 1 | 4 | 11.829 | 0.026 | * | 0.635 |\n",
       "| 3 | 1 | 3 | CellType | 1 | 4 | 10.168 | 0.033 | * | 0.088 |\n",
       "| 4 | 2 | 1 | CellType | 1 | 4 |  4.043 | 0.115 | <!----> | 0.365 |\n",
       "| 5 | 2 | 2 | CellType | 1 | 4 |  0.111 | 0.756 | <!----> | 0.011 |\n",
       "| 6 | 2 | 3 | CellType | 1 | 4 |  6.853 | 0.059 | <!----> | 0.159 |\n",
       "\n"
      ],
      "text/plain": [
       "  BrakeState EventType Effect   DFn DFd F      p     p<.05 ges  \n",
       "1 1          1         CellType 1   4   33.903 0.004 *     0.815\n",
       "2 1          2         CellType 1   4   11.829 0.026 *     0.635\n",
       "3 1          3         CellType 1   4   10.168 0.033 *     0.088\n",
       "4 2          1         CellType 1   4    4.043 0.115       0.365\n",
       "5 2          2         CellType 1   4    0.111 0.756       0.011\n",
       "6 2          3         CellType 1   4    6.853 0.059       0.159"
      ]
     },
     "metadata": {},
     "output_type": "display_data"
    }
   ],
   "source": [
    "# Effect of time at each diet X exercises cells\n",
    "CellType.effect <- data %>%\n",
    "  group_by(BrakeState, EventType) %>%\n",
    "  anova_test(dv = percent, wid = Animal, within = CellType)\n",
    "get_anova_table(CellType.effect)"
   ]
  },
  {
   "cell_type": "code",
   "execution_count": 68,
   "metadata": {},
   "outputs": [
    {
     "data": {
      "text/html": [
       "<table class=\"dataframe\">\n",
       "<caption>A rstatix_test: 1 × 9</caption>\n",
       "<thead>\n",
       "\t<tr><th scope=col>BrakeState</th><th scope=col>EventType</th><th scope=col>.y.</th><th scope=col>group1</th><th scope=col>group2</th><th scope=col>n1</th><th scope=col>n2</th><th scope=col>p.adj</th><th scope=col>p.adj.signif</th></tr>\n",
       "\t<tr><th scope=col>&lt;fct&gt;</th><th scope=col>&lt;fct&gt;</th><th scope=col>&lt;chr&gt;</th><th scope=col>&lt;chr&gt;</th><th scope=col>&lt;chr&gt;</th><th scope=col>&lt;int&gt;</th><th scope=col>&lt;int&gt;</th><th scope=col>&lt;dbl&gt;</th><th scope=col>&lt;chr&gt;</th></tr>\n",
       "</thead>\n",
       "<tbody>\n",
       "\t<tr><td>1</td><td>1</td><td>percent</td><td>Exc</td><td>Inh</td><td>5</td><td>5</td><td>0.004</td><td>**</td></tr>\n",
       "</tbody>\n",
       "</table>\n"
      ],
      "text/latex": [
       "A rstatix\\_test: 1 × 9\n",
       "\\begin{tabular}{lllllllll}\n",
       " BrakeState & EventType & .y. & group1 & group2 & n1 & n2 & p.adj & p.adj.signif\\\\\n",
       " <fct> & <fct> & <chr> & <chr> & <chr> & <int> & <int> & <dbl> & <chr>\\\\\n",
       "\\hline\n",
       "\t 1 & 1 & percent & Exc & Inh & 5 & 5 & 0.004 & **\\\\\n",
       "\\end{tabular}\n"
      ],
      "text/markdown": [
       "\n",
       "A rstatix_test: 1 × 9\n",
       "\n",
       "| BrakeState &lt;fct&gt; | EventType &lt;fct&gt; | .y. &lt;chr&gt; | group1 &lt;chr&gt; | group2 &lt;chr&gt; | n1 &lt;int&gt; | n2 &lt;int&gt; | p.adj &lt;dbl&gt; | p.adj.signif &lt;chr&gt; |\n",
       "|---|---|---|---|---|---|---|---|---|\n",
       "| 1 | 1 | percent | Exc | Inh | 5 | 5 | 0.004 | ** |\n",
       "\n"
      ],
      "text/plain": [
       "  BrakeState EventType .y.     group1 group2 n1 n2 p.adj p.adj.signif\n",
       "1 1          1         percent Exc    Inh    5  5  0.004 **          "
      ]
     },
     "metadata": {},
     "output_type": "display_data"
    },
    {
     "data": {
      "text/html": [
       "<table class=\"dataframe\">\n",
       "<caption>A rstatix_test: 1 × 9</caption>\n",
       "<thead>\n",
       "\t<tr><th scope=col>BrakeState</th><th scope=col>EventType</th><th scope=col>.y.</th><th scope=col>group1</th><th scope=col>group2</th><th scope=col>n1</th><th scope=col>n2</th><th scope=col>p.adj</th><th scope=col>p.adj.signif</th></tr>\n",
       "\t<tr><th scope=col>&lt;fct&gt;</th><th scope=col>&lt;fct&gt;</th><th scope=col>&lt;chr&gt;</th><th scope=col>&lt;chr&gt;</th><th scope=col>&lt;chr&gt;</th><th scope=col>&lt;int&gt;</th><th scope=col>&lt;int&gt;</th><th scope=col>&lt;dbl&gt;</th><th scope=col>&lt;chr&gt;</th></tr>\n",
       "</thead>\n",
       "<tbody>\n",
       "\t<tr><td>1</td><td>2</td><td>percent</td><td>Exc</td><td>Inh</td><td>5</td><td>5</td><td>0.026</td><td>*</td></tr>\n",
       "</tbody>\n",
       "</table>\n"
      ],
      "text/latex": [
       "A rstatix\\_test: 1 × 9\n",
       "\\begin{tabular}{lllllllll}\n",
       " BrakeState & EventType & .y. & group1 & group2 & n1 & n2 & p.adj & p.adj.signif\\\\\n",
       " <fct> & <fct> & <chr> & <chr> & <chr> & <int> & <int> & <dbl> & <chr>\\\\\n",
       "\\hline\n",
       "\t 1 & 2 & percent & Exc & Inh & 5 & 5 & 0.026 & *\\\\\n",
       "\\end{tabular}\n"
      ],
      "text/markdown": [
       "\n",
       "A rstatix_test: 1 × 9\n",
       "\n",
       "| BrakeState &lt;fct&gt; | EventType &lt;fct&gt; | .y. &lt;chr&gt; | group1 &lt;chr&gt; | group2 &lt;chr&gt; | n1 &lt;int&gt; | n2 &lt;int&gt; | p.adj &lt;dbl&gt; | p.adj.signif &lt;chr&gt; |\n",
       "|---|---|---|---|---|---|---|---|---|\n",
       "| 1 | 2 | percent | Exc | Inh | 5 | 5 | 0.026 | * |\n",
       "\n"
      ],
      "text/plain": [
       "  BrakeState EventType .y.     group1 group2 n1 n2 p.adj p.adj.signif\n",
       "1 1          2         percent Exc    Inh    5  5  0.026 *           "
      ]
     },
     "metadata": {},
     "output_type": "display_data"
    },
    {
     "data": {
      "text/html": [
       "<table class=\"dataframe\">\n",
       "<caption>A rstatix_test: 1 × 9</caption>\n",
       "<thead>\n",
       "\t<tr><th scope=col>BrakeState</th><th scope=col>EventType</th><th scope=col>.y.</th><th scope=col>group1</th><th scope=col>group2</th><th scope=col>n1</th><th scope=col>n2</th><th scope=col>p.adj</th><th scope=col>p.adj.signif</th></tr>\n",
       "\t<tr><th scope=col>&lt;fct&gt;</th><th scope=col>&lt;fct&gt;</th><th scope=col>&lt;chr&gt;</th><th scope=col>&lt;chr&gt;</th><th scope=col>&lt;chr&gt;</th><th scope=col>&lt;int&gt;</th><th scope=col>&lt;int&gt;</th><th scope=col>&lt;dbl&gt;</th><th scope=col>&lt;chr&gt;</th></tr>\n",
       "</thead>\n",
       "<tbody>\n",
       "\t<tr><td>1</td><td>3</td><td>percent</td><td>Exc</td><td>Inh</td><td>5</td><td>5</td><td>0.033</td><td>*</td></tr>\n",
       "</tbody>\n",
       "</table>\n"
      ],
      "text/latex": [
       "A rstatix\\_test: 1 × 9\n",
       "\\begin{tabular}{lllllllll}\n",
       " BrakeState & EventType & .y. & group1 & group2 & n1 & n2 & p.adj & p.adj.signif\\\\\n",
       " <fct> & <fct> & <chr> & <chr> & <chr> & <int> & <int> & <dbl> & <chr>\\\\\n",
       "\\hline\n",
       "\t 1 & 3 & percent & Exc & Inh & 5 & 5 & 0.033 & *\\\\\n",
       "\\end{tabular}\n"
      ],
      "text/markdown": [
       "\n",
       "A rstatix_test: 1 × 9\n",
       "\n",
       "| BrakeState &lt;fct&gt; | EventType &lt;fct&gt; | .y. &lt;chr&gt; | group1 &lt;chr&gt; | group2 &lt;chr&gt; | n1 &lt;int&gt; | n2 &lt;int&gt; | p.adj &lt;dbl&gt; | p.adj.signif &lt;chr&gt; |\n",
       "|---|---|---|---|---|---|---|---|---|\n",
       "| 1 | 3 | percent | Exc | Inh | 5 | 5 | 0.033 | * |\n",
       "\n"
      ],
      "text/plain": [
       "  BrakeState EventType .y.     group1 group2 n1 n2 p.adj p.adj.signif\n",
       "1 1          3         percent Exc    Inh    5  5  0.033 *           "
      ]
     },
     "metadata": {},
     "output_type": "display_data"
    }
   ],
   "source": [
    "# Pairwise comparisons\n",
    "pwc <- data %>%\n",
    "  group_by(BrakeState, EventType) %>%\n",
    "  pairwise_t_test(percent ~ CellType, paired = TRUE, p.adjust.method = \"bonferroni\") %>%\n",
    "  select(-df, -statistic) # Remove details\n",
    "# Show comparison results for \"diet:no,exercises:yes\" groups\n",
    "pwc %>% filter(BrakeState == 1, EventType == 1) %>%\n",
    "  select(-p)     # remove p columns\n",
    "pwc %>% filter(BrakeState == 1, EventType == 2) %>%\n",
    "  select(-p)     # remove p columns\n",
    "pwc %>% filter(BrakeState == 1, EventType == 3) %>%\n",
    "  select(-p)     # remove p columns"
   ]
  },
  {
   "cell_type": "code",
   "execution_count": 69,
   "metadata": {},
   "outputs": [
    {
     "data": {
      "image/png": "[encoded data removed]",
      "text/plain": [
       "plot without title"
      ]
     },
     "metadata": {
      "image/png": {
       "height": 420,
       "width": 420
      }
     },
     "output_type": "display_data"
    }
   ],
   "source": [
    "# Visualization: box plots with p-values\n",
    "pwc <- pwc %>% add_xy_position(x = \"EventType\")\n",
    "pwc.filtered <- pwc %>% \n",
    "  filter(BrakeState == 1, EventType == 1)\n",
    "bxp + \n",
    "  stat_pvalue_manual(pwc.filtered, tip.length = 0, hide.ns = TRUE) +\n",
    "  labs(\n",
    "    subtitle = get_test_label(res.aov, detailed = TRUE),\n",
    "    caption = get_pwc_label(pwc)\n",
    "  )"
   ]
  },
  {
   "cell_type": "code",
   "execution_count": null,
   "metadata": {},
   "outputs": [],
   "source": [
    "# file_names <- data.frame(data_file_names_df$Filenames)\n",
    "# for (ii in seq(1,nrow(data_file_names_df),by=1)){\n",
    "#     filename = as.vector(data_file_names_df$Filenames[ii])\n",
    "#     data = read.csv(filename)\n",
    "#     print(data)\n",
    "#     }"
   ]
  }
 ],
 "metadata": {
  "kernelspec": {
   "display_name": "R",
   "language": "R",
   "name": "ir"
  },
  "language_info": {
   "codemirror_mode": "r",
   "file_extension": ".r",
   "mimetype": "text/x-r-source",
   "name": "R",
   "pygments_lexer": "r",
   "version": "4.0.5"
  }
 },
 "nbformat": 4,
 "nbformat_minor": 4
}
