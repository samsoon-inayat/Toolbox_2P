{
 "cells": [
  {
   "cell_type": "markdown",
   "metadata": {},
   "source": [
    "# Suite2p notebook\n",
    "This file is read only. Please make a copy in your home directory before modifying this file."
   ]
  },
  {
   "cell_type": "code",
   "execution_count": 2,
   "metadata": {},
   "outputs": [],
   "source": [
    "import sys\n",
    "sys.path.insert(1, './extras')\n",
    "\n",
    "from parse_xml import parse_xml\n",
    "from raw2h5 import raw2h5\n",
    "import logging\n",
    "import os\n",
    "import glob\n",
    "import argparse"
   ]
  },
  {
   "cell_type": "markdown",
   "metadata": {},
   "source": [
    "## Setup input\n",
    "Setting the ```run_mode``` variable will control which parts of the pipeline are run.\n",
    "- all: Run the entire pipeline\n",
    "- suite2p: Run only the registration/cell extraction part\n",
    "- deconv: Run the deconvolution algorithm from the MATLAB version of suite2p on the extracted cells\n",
    "\n",
    "Either insert the path to a file in the ```params_file``` variable, or fill your entries in the db variable below.\n",
    "Make sure your input/output paths are created before running this."
   ]
  },
  {
   "cell_type": "code",
   "execution_count": 4,
   "metadata": {},
   "outputs": [],
   "source": [
    "logging.basicConfig(format=\"%(asctime)s %(relativeCreated)12d [%(filename)s:%(funcName)15s():%(lineno)s] [%(process)d] %(message)s\", \n",
    "                    datefmt='%Y-%m-%d %H:%M:%S', level=logging.DEBUG)\n",
    "run_mode = 'all' # Use 'suite2p' to just run the registration/cell extraction, 'deconv' for just the deconvolution or 'all' for everything\n",
    "params_file = '' # Place path to params.py here if you want to use a separate file.\n",
    "if os.path.isfile(params_file):\n",
    "    with open(params_file) as f:\n",
    "        code = compile(f.read(), params_file, 'exec')\n",
    "        exec(code)\n",
    "else:\n",
    "    db = []\n",
    "    \n",
    "    db.append({\n",
    "        \"mouse_name\": \"183628\",\n",
    "        \"date\": \"2019-06-11\",\n",
    "        \"expts\": ['1_001'],\n",
    "        \"raw_dir\": \"//mohajerani-nas.uleth.ca/storage/homes/samsoon.inayat/Data/\",\n",
    "        \"tif_dir\": \"E:/Users/samsoon.inayat/S_Drive/Tif_Data/\",\n",
    "        \"results_dir\": \"E:/Users/samsoon.inayat/S_Drive/Processed_Data\",\n",
    "        \"ops\": {\n",
    "            'do_bidiphase': True,\n",
    "            'bidiphase': 1,\n",
    "            'bidi_corrected': True,\n",
    "            'sparse_mode': False,\n",
    "            'diameter': 15\n",
    "        }\n",
    "    })"
   ]
  },
  {
   "cell_type": "markdown",
   "metadata": {},
   "source": [
    "## Run the actual pipeline"
   ]
  },
  {
   "cell_type": "code",
   "execution_count": 5,
   "metadata": {
    "scrolled": true
   },
   "outputs": [
    {
     "name": "stderr",
     "output_type": "stream",
     "text": [
      "2021-02-11 21:28:32      1405547 [<ipython-input-5-364e49129f17>:       <module>():7] [1744] Creating results directory E:/Users/samsoon.inayat/S_Drive/Processed_Data\\183628\\2019-06-11\\1\n",
      "2021-02-11 21:28:32      1405552 [<ipython-input-5-364e49129f17>:       <module>():24] [1744] Parsing Experiment.xml in //mohajerani-nas.uleth.ca/storage/homes/samsoon.inayat/Data/183628\\2019-06-11\\1\\Experiment.xml\n"
     ]
    },
    {
     "name": "stdout",
     "output_type": "stream",
     "text": [
      "Running expt {'mouse_name': '183628', 'date': '2019-06-11', 'expts': [1], 'raw_dir': '//mohajerani-nas.uleth.ca/storage/homes/samsoon.inayat/Data/', 'tif_dir': 'E:/Users/samsoon.inayat/S_Drive/Tif_Data/', 'results_dir': 'E:/Users/samsoon.inayat/S_Drive/Processed_Data', 'ops': {'do_bidiphase': True, 'bidiphase': 1, 'bidi_corrected': True, 'sparse_mode': False, 'diameter': 20}}\n",
      "Temp directory: E:/Users/samsoon.inayat/S_Drive/Tif_Data/183628\\2019-06-11\\1\n",
      "Results directory: E:/Users/samsoon.inayat/S_Drive/Processed_Data\\183628\\2019-06-11\\1\n"
     ]
    },
    {
     "ename": "ValueError",
     "evalue": "Experiment.xml does not exist at //mohajerani-nas.uleth.ca/storage/homes/samsoon.inayat/Data/183628\\2019-06-11\\1\\Experiment.xml",
     "output_type": "error",
     "traceback": [
      "\u001b[1;31m---------------------------------------------------------------------------\u001b[0m",
      "\u001b[1;31mValueError\u001b[0m                                Traceback (most recent call last)",
      "\u001b[1;32m<ipython-input-5-364e49129f17>\u001b[0m in \u001b[0;36m<module>\u001b[1;34m\u001b[0m\n\u001b[0;32m     27\u001b[0m             \u001b[0mnframes\u001b[0m\u001b[1;33m.\u001b[0m\u001b[0mappend\u001b[0m\u001b[1;33m(\u001b[0m\u001b[0mnum_frames\u001b[0m\u001b[1;33m)\u001b[0m\u001b[1;33m\u001b[0m\u001b[1;33m\u001b[0m\u001b[0m\n\u001b[0;32m     28\u001b[0m         \u001b[1;32melse\u001b[0m\u001b[1;33m:\u001b[0m\u001b[1;33m\u001b[0m\u001b[1;33m\u001b[0m\u001b[0m\n\u001b[1;32m---> 29\u001b[1;33m             \u001b[1;32mraise\u001b[0m \u001b[0mValueError\u001b[0m\u001b[1;33m(\u001b[0m\u001b[1;34mf\"Experiment.xml does not exist at {xml_path}\"\u001b[0m\u001b[1;33m)\u001b[0m\u001b[1;33m\u001b[0m\u001b[1;33m\u001b[0m\u001b[0m\n\u001b[0m\u001b[0;32m     30\u001b[0m \u001b[1;33m\u001b[0m\u001b[0m\n\u001b[0;32m     31\u001b[0m     \u001b[1;32mif\u001b[0m \u001b[0mrun_mode\u001b[0m \u001b[1;33m==\u001b[0m \u001b[1;34m'suite2p'\u001b[0m \u001b[1;32mor\u001b[0m \u001b[0mrun_mode\u001b[0m \u001b[1;33m==\u001b[0m \u001b[1;34m'all'\u001b[0m\u001b[1;33m:\u001b[0m\u001b[1;33m\u001b[0m\u001b[1;33m\u001b[0m\u001b[0m\n",
      "\u001b[1;31mValueError\u001b[0m: Experiment.xml does not exist at //mohajerani-nas.uleth.ca/storage/homes/samsoon.inayat/Data/183628\\2019-06-11\\1\\Experiment.xml"
     ]
    }
   ],
   "source": [
    "for i in db:\n",
    "    comb_dir = '_'.join(str(x) for x in i['expts'])\n",
    "    tif_dir = os.path.join(i['tif_dir'], i['mouse_name'], i['date'], comb_dir)\n",
    "    results_dir = os.path.join(i['results_dir'], i['mouse_name'], i['date'], comb_dir)\n",
    "    \n",
    "    if not os.path.isdir(results_dir):\n",
    "        logging.info(f'Creating results directory {results_dir}')\n",
    "        os.makedirs(results_dir)\n",
    "    \n",
    "    if 'abf_dir' in i:\n",
    "        abf_dir = [ os.path.join(i['abf_dir'], i['mouse_name'], i['date'] + \"_\" + str(x) + \".abf\") for x in i['expts'] ]\n",
    "    else:\n",
    "        abf_dir = None\n",
    "    print(f'Running expt {i}')\n",
    "    print(f'Temp directory: {tif_dir}')\n",
    "    print(f'Results directory: {results_dir}')\n",
    "    i['in_dir'] = os.path.join(i['raw_dir'], i['mouse_name'], i['date'])\n",
    "    offset = 1\n",
    "    nframes = []\n",
    "    for j in i['expts']:\n",
    "        in_dir = os.path.join(i['in_dir'], str(j))\n",
    "        \n",
    "        xml_path = os.path.join(in_dir, \"Experiment.xml\")\n",
    "        logging.info(f'Parsing Experiment.xml in {xml_path}')\n",
    "        if os.path.exists(xml_path):\n",
    "            (x, y, fr, num_frames, num_planes) = parse_xml(xml_path)\n",
    "            nframes.append(num_frames)\n",
    "        else:\n",
    "            raise ValueError(f\"Experiment.xml does not exist at {xml_path}\")\n",
    "            \n",
    "    if run_mode == 'suite2p' or run_mode == 'all':\n",
    "        from run_suite2p import run_suite2p\n",
    "        ops = run_suite2p(i, results_dir, fr/num_planes, num_planes)\n",
    "    if run_mode == 'deconv' or run_mode == 'all':\n",
    "        from deconv import do_deconv\n",
    "        do_deconv(results_dir, num_planes/fr, nframes, i['expts'], abf_dir, nplanes=num_planes)"
   ]
  }
 ],
 "metadata": {
  "kernelspec": {
   "display_name": "Python 3",
   "language": "python",
   "name": "python3"
  },
  "language_info": {
   "codemirror_mode": {
    "name": "ipython",
    "version": 3
   },
   "file_extension": ".py",
   "mimetype": "text/x-python",
   "name": "python",
   "nbconvert_exporter": "python",
   "pygments_lexer": "ipython3",
   "version": "3.7.9"
  }
 },
 "nbformat": 4,
 "nbformat_minor": 4
}
