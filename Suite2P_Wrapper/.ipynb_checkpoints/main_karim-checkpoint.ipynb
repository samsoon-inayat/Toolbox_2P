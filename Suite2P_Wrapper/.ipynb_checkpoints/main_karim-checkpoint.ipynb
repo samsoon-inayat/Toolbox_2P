{
 "cells": [
  {
   "cell_type": "markdown",
   "metadata": {},
   "source": [
    "# Suite2p notebook\n",
    "This file is read only. Please make a copy in your home directory before modifying this file."
   ]
  },
  {
   "cell_type": "code",
   "execution_count": 1,
   "metadata": {},
   "outputs": [],
   "source": [
    "import sys\n",
    "sys.path.insert(1, './extras')\n",
    "\n",
    "from parse_xml import parse_xml\n",
    "from raw2h5 import raw2h5\n",
    "import logging\n",
    "import os\n",
    "import glob\n",
    "import argparse"
   ]
  },
  {
   "cell_type": "markdown",
   "metadata": {},
   "source": [
    "## Setup input\n",
    "Setting the ```run_mode``` variable will control which parts of the pipeline are run.\n",
    "- all: Run the entire pipeline\n",
    "- suite2p: Run only the registration/cell extraction part\n",
    "- deconv: Run the deconvolution algorithm from the MATLAB version of suite2p on the extracted cells\n",
    "\n",
    "Either insert the path to a file in the ```params_file``` variable, or fill your entries in the db variable below.\n",
    "Make sure your input/output paths are created before running this."
   ]
  },
  {
   "cell_type": "code",
   "execution_count": 13,
   "metadata": {},
   "outputs": [],
   "source": [
    "logging.basicConfig(format=\"%(asctime)s %(relativeCreated)12d [%(filename)s:%(funcName)15s():%(lineno)s] [%(process)d] %(message)s\", \n",
    "                    datefmt='%Y-%m-%d %H:%M:%S', level=logging.DEBUG)\n",
    "run_mode = 'all' # Use 'suite2p' to just run the registration/cell extraction, 'deconv' for just the deconvolution or 'all' for everything\n",
    "params_file = '' # Place path to params.py here if you want to use a separate file.\n",
    "if os.path.isfile(params_file):\n",
    "    with open(params_file) as f:\n",
    "        code = compile(f.read(), params_file, 'exec')\n",
    "        exec(code)\n",
    "else:\n",
    "    db = []\n",
    "    \n",
    "    db.append({\n",
    "        \"mouse_name\": \"183628\",\n",
    "        \"date\": \"2019-06-11\",\n",
    "        \"expts\": ['1_001'],\n",
    "        \"raw_dir\": \"//mohajerani-nas.uleth.ca/storage/homes/samsoon.inayat/Data/\",\n",
    "        \"tif_dir\": \"E:/Userssamsoon.inayat/S_Drive/Tif_Data/\",\n",
    "        \"results_dir\": \"E:/Users/samsoon.inayat/S_Drive/Processed_Data/\",\n",
    "        \"ops\": {\n",
    "            'do_bidiphase': True,\n",
    "            'bidiphase': 1,\n",
    "            'bidi_corrected': True,\n",
    "            'sparse_mode': False,\n",
    "            'diameter': 15\n",
    "        }\n",
    "    })"
   ]
  },
  {
   "cell_type": "markdown",
   "metadata": {},
   "source": [
    "## Run the actual pipeline"
   ]
  },
  {
   "cell_type": "code",
   "execution_count": 14,
   "metadata": {
    "tags": []
   },
   "outputs": [
    {
     "name": "stderr",
     "output_type": "stream",
     "text": [
      "2021-02-23 18:15:56      1879273 [<ipython-input-14-364e49129f17>:       <module>():24] [9304] Parsing Experiment.xml in //mohajerani-nas.uleth.ca/storage/homes/samsoon.inayat/Data\\183628\\2019-06-11\\1_001\\Experiment.xml\n"
     ]
    },
    {
     "name": "stdout",
     "output_type": "stream",
     "text": [
      "Running expt {'mouse_name': '183628', 'date': '2019-06-11', 'expts': ['1_001'], 'raw_dir': '//mohajerani-nas.uleth.ca/storage/homes/samsoon.inayat/Data', 'tif_dir': 'E:\\\\Userssamsoon.inayat\\\\S_Drive\\\\Tif_Data', 'results_dir': 'E:/Users/samsoon.inayat/S_Drive/Processed_Data', 'ops': {'do_bidiphase': True, 'bidiphase': 1, 'bidi_corrected': True, 'sparse_mode': False, 'diameter': 15}}\n",
      "Temp directory: E:\\Userssamsoon.inayat\\S_Drive\\Tif_Data\\183628\\2019-06-11\\1_001\n",
      "Results directory: E:/Users/samsoon.inayat/S_Drive/Processed_Data\\183628\\2019-06-11\\1_001\n",
      "{'suite2p_version': '0.9.3', 'look_one_level_down': True, 'fast_disk': [], 'delete_bin': False, 'mesoscan': False, 'bruker': False, 'h5py': [], 'h5py_key': 'data', 'save_path0': 'E:/Users/samsoon.inayat/S_Drive/Processed_Data\\\\183628\\\\2019-06-11\\\\1_001', 'save_folder': [], 'subfolders': [], 'move_bin': False, 'nplanes': 1, 'nchannels': 1, 'functional_chan': 1, 'tau': 1.0, 'fs': 29.16, 'force_sktiff': False, 'frames_include': -1, 'multiplane_parallel': False, 'preclassify': 0.0, 'save_mat': True, 'save_NWB': False, 'combined': True, 'aspect': 1.0, 'do_bidiphase': True, 'bidiphase': 1, 'bidi_corrected': True, 'do_registration': 1, 'two_step_registration': False, 'keep_movie_raw': False, 'nimg_init': 300, 'batch_size': 500, 'maxregshift': 0.1, 'align_by_chan': 1, 'reg_tif': False, 'reg_tif_chan2': False, 'subpixel': 10, 'smooth_sigma_time': 0, 'smooth_sigma': 1.15, 'th_badframes': 1.0, 'norm_frames': True, 'force_refImg': False, 'pad_fft': False, 'nonrigid': True, 'block_size': [128, 128], 'snr_thresh': 1.2, 'maxregshiftNR': 5, '1Preg': False, 'spatial_hp': 42, 'spatial_hp_reg': 42, 'spatial_hp_detect': 25, 'pre_smooth': 0, 'spatial_taper': 40, 'roidetect': True, 'spikedetect': True, 'anatomical_only': False, 'sparse_mode': False, 'diameter': 15, 'spatial_scale': 0, 'connected': True, 'nbinned': 5000, 'max_iterations': 20, 'threshold_scaling': 1.0, 'max_overlap': 0.75, 'high_pass': 100, 'use_builtin_classifier': False, 'neuropil_extract': True, 'inner_neuropil_radius': 2, 'min_neuropil_pixels': 350, 'allow_overlap': False, 'chan2_thres': 0.65, 'baseline': 'maximin', 'win_baseline': 60.0, 'sig_baseline': 10.0, 'prctile_baseline': 8.0, 'neucoeff': 0.7, 'data_path': '//mohajerani-nas.uleth.ca/storage/homes/samsoon.inayat/Data\\\\183628\\\\2019-06-11', 'expts': ['1_001'], 'raw': True}\n",
      "{}\n",
      "tif\n",
      "Could not find any tiffs\n"
     ]
    },
    {
     "ename": "Exception",
     "evalue": "no tiffs",
     "output_type": "error",
     "traceback": [
      "\u001b[1;31m---------------------------------------------------------------------------\u001b[0m",
      "\u001b[1;31mException\u001b[0m                                 Traceback (most recent call last)",
      "\u001b[1;32m<ipython-input-14-364e49129f17>\u001b[0m in \u001b[0;36m<module>\u001b[1;34m\u001b[0m\n\u001b[0;32m     31\u001b[0m     \u001b[1;32mif\u001b[0m \u001b[0mrun_mode\u001b[0m \u001b[1;33m==\u001b[0m \u001b[1;34m'suite2p'\u001b[0m \u001b[1;32mor\u001b[0m \u001b[0mrun_mode\u001b[0m \u001b[1;33m==\u001b[0m \u001b[1;34m'all'\u001b[0m\u001b[1;33m:\u001b[0m\u001b[1;33m\u001b[0m\u001b[1;33m\u001b[0m\u001b[0m\n\u001b[0;32m     32\u001b[0m         \u001b[1;32mfrom\u001b[0m \u001b[0mrun_suite2p\u001b[0m \u001b[1;32mimport\u001b[0m \u001b[0mrun_suite2p\u001b[0m\u001b[1;33m\u001b[0m\u001b[1;33m\u001b[0m\u001b[0m\n\u001b[1;32m---> 33\u001b[1;33m         \u001b[0mops\u001b[0m \u001b[1;33m=\u001b[0m \u001b[0mrun_suite2p\u001b[0m\u001b[1;33m(\u001b[0m\u001b[0mi\u001b[0m\u001b[1;33m,\u001b[0m \u001b[0mresults_dir\u001b[0m\u001b[1;33m,\u001b[0m \u001b[0mfr\u001b[0m\u001b[1;33m/\u001b[0m\u001b[0mnum_planes\u001b[0m\u001b[1;33m,\u001b[0m \u001b[0mnum_planes\u001b[0m\u001b[1;33m)\u001b[0m\u001b[1;33m\u001b[0m\u001b[1;33m\u001b[0m\u001b[0m\n\u001b[0m\u001b[0;32m     34\u001b[0m     \u001b[1;32mif\u001b[0m \u001b[0mrun_mode\u001b[0m \u001b[1;33m==\u001b[0m \u001b[1;34m'deconv'\u001b[0m \u001b[1;32mor\u001b[0m \u001b[0mrun_mode\u001b[0m \u001b[1;33m==\u001b[0m \u001b[1;34m'all'\u001b[0m\u001b[1;33m:\u001b[0m\u001b[1;33m\u001b[0m\u001b[1;33m\u001b[0m\u001b[0m\n\u001b[0;32m     35\u001b[0m         \u001b[1;32mfrom\u001b[0m \u001b[0mdeconv\u001b[0m \u001b[1;32mimport\u001b[0m \u001b[0mdo_deconv\u001b[0m\u001b[1;33m\u001b[0m\u001b[1;33m\u001b[0m\u001b[0m\n",
      "\u001b[1;32m~\\S_Drive\\GitHub\\Toolbox_2P\\Suite2P_Wrapper\\extras\\run_suite2p.py\u001b[0m in \u001b[0;36mrun_suite2p\u001b[1;34m(db, out_path, fs, nplanes)\u001b[0m\n\u001b[0;32m     29\u001b[0m         \u001b[0mprint\u001b[0m\u001b[1;33m(\u001b[0m\u001b[0mops\u001b[0m\u001b[1;33m)\u001b[0m\u001b[1;33m\u001b[0m\u001b[1;33m\u001b[0m\u001b[0m\n\u001b[0;32m     30\u001b[0m \u001b[1;33m\u001b[0m\u001b[0m\n\u001b[1;32m---> 31\u001b[1;33m         \u001b[0mops\u001b[0m \u001b[1;33m=\u001b[0m \u001b[0mrun_s2p\u001b[0m\u001b[1;33m(\u001b[0m\u001b[0mops\u001b[0m\u001b[1;33m=\u001b[0m\u001b[0mops\u001b[0m\u001b[1;33m,\u001b[0m \u001b[0mdb\u001b[0m\u001b[1;33m=\u001b[0m\u001b[0mdb\u001b[0m\u001b[1;33m)\u001b[0m\u001b[1;33m\u001b[0m\u001b[1;33m\u001b[0m\u001b[0m\n\u001b[0m\u001b[0;32m     32\u001b[0m         \u001b[1;32mreturn\u001b[0m \u001b[0mops\u001b[0m\u001b[1;33m\u001b[0m\u001b[1;33m\u001b[0m\u001b[0m\n",
      "\u001b[1;32me:\\users\\samsoon.inayat\\anaconda3\\envs\\suite2p\\lib\\site-packages\\suite2p\\run_s2p.py\u001b[0m in \u001b[0;36mrun_s2p\u001b[1;34m(ops, db)\u001b[0m\n\u001b[0;32m    382\u001b[0m                 \u001b[0mops0\u001b[0m \u001b[1;33m=\u001b[0m \u001b[0mops0\u001b[0m\u001b[1;33m[\u001b[0m\u001b[1;36m0\u001b[0m\u001b[1;33m]\u001b[0m\u001b[1;33m\u001b[0m\u001b[1;33m\u001b[0m\u001b[0m\n\u001b[0;32m    383\u001b[0m         \u001b[1;32melse\u001b[0m\u001b[1;33m:\u001b[0m\u001b[1;33m\u001b[0m\u001b[1;33m\u001b[0m\u001b[0m\n\u001b[1;32m--> 384\u001b[1;33m             \u001b[0mops0\u001b[0m \u001b[1;33m=\u001b[0m \u001b[0mio\u001b[0m\u001b[1;33m.\u001b[0m\u001b[0mtiff_to_binary\u001b[0m\u001b[1;33m(\u001b[0m\u001b[0mops\u001b[0m\u001b[1;33m.\u001b[0m\u001b[0mcopy\u001b[0m\u001b[1;33m(\u001b[0m\u001b[1;33m)\u001b[0m\u001b[1;33m)\u001b[0m\u001b[1;33m\u001b[0m\u001b[1;33m\u001b[0m\u001b[0m\n\u001b[0m\u001b[0;32m    385\u001b[0m         \u001b[0mplane_folders\u001b[0m \u001b[1;33m=\u001b[0m \u001b[0mnatsorted\u001b[0m\u001b[1;33m(\u001b[0m\u001b[1;33m[\u001b[0m \u001b[0mf\u001b[0m\u001b[1;33m.\u001b[0m\u001b[0mpath\u001b[0m \u001b[1;32mfor\u001b[0m \u001b[0mf\u001b[0m \u001b[1;32min\u001b[0m \u001b[0mos\u001b[0m\u001b[1;33m.\u001b[0m\u001b[0mscandir\u001b[0m\u001b[1;33m(\u001b[0m\u001b[0msave_folder\u001b[0m\u001b[1;33m)\u001b[0m \u001b[1;32mif\u001b[0m \u001b[0mf\u001b[0m\u001b[1;33m.\u001b[0m\u001b[0mis_dir\u001b[0m\u001b[1;33m(\u001b[0m\u001b[1;33m)\u001b[0m \u001b[1;32mand\u001b[0m \u001b[0mf\u001b[0m\u001b[1;33m.\u001b[0m\u001b[0mname\u001b[0m\u001b[1;33m[\u001b[0m\u001b[1;33m:\u001b[0m\u001b[1;36m5\u001b[0m\u001b[1;33m]\u001b[0m\u001b[1;33m==\u001b[0m\u001b[1;34m'plane'\u001b[0m\u001b[1;33m]\u001b[0m\u001b[1;33m)\u001b[0m\u001b[1;33m\u001b[0m\u001b[1;33m\u001b[0m\u001b[0m\n\u001b[0;32m    386\u001b[0m         \u001b[0mops_paths\u001b[0m \u001b[1;33m=\u001b[0m \u001b[1;33m[\u001b[0m\u001b[0mos\u001b[0m\u001b[1;33m.\u001b[0m\u001b[0mpath\u001b[0m\u001b[1;33m.\u001b[0m\u001b[0mjoin\u001b[0m\u001b[1;33m(\u001b[0m\u001b[0mf\u001b[0m\u001b[1;33m,\u001b[0m \u001b[1;34m'ops.npy'\u001b[0m\u001b[1;33m)\u001b[0m \u001b[1;32mfor\u001b[0m \u001b[0mf\u001b[0m \u001b[1;32min\u001b[0m \u001b[0mplane_folders\u001b[0m\u001b[1;33m]\u001b[0m\u001b[1;33m\u001b[0m\u001b[1;33m\u001b[0m\u001b[0m\n",
      "\u001b[1;32me:\\users\\samsoon.inayat\\anaconda3\\envs\\suite2p\\lib\\site-packages\\suite2p\\io\\tiff.py\u001b[0m in \u001b[0;36mtiff_to_binary\u001b[1;34m(ops)\u001b[0m\n\u001b[0;32m    120\u001b[0m     \u001b[1;31m# open all binary files for writing\u001b[0m\u001b[1;33m\u001b[0m\u001b[1;33m\u001b[0m\u001b[1;33m\u001b[0m\u001b[0m\n\u001b[0;32m    121\u001b[0m     \u001b[1;31m# look for tiffs in all requested folders\u001b[0m\u001b[1;33m\u001b[0m\u001b[1;33m\u001b[0m\u001b[1;33m\u001b[0m\u001b[0m\n\u001b[1;32m--> 122\u001b[1;33m     \u001b[0mops1\u001b[0m\u001b[1;33m,\u001b[0m \u001b[0mfs\u001b[0m\u001b[1;33m,\u001b[0m \u001b[0mreg_file\u001b[0m\u001b[1;33m,\u001b[0m \u001b[0mreg_file_chan2\u001b[0m \u001b[1;33m=\u001b[0m \u001b[0mutils\u001b[0m\u001b[1;33m.\u001b[0m\u001b[0mfind_files_open_binaries\u001b[0m\u001b[1;33m(\u001b[0m\u001b[0mops1\u001b[0m\u001b[1;33m,\u001b[0m \u001b[1;32mFalse\u001b[0m\u001b[1;33m)\u001b[0m\u001b[1;33m\u001b[0m\u001b[1;33m\u001b[0m\u001b[0m\n\u001b[0m\u001b[0;32m    123\u001b[0m     \u001b[0mops\u001b[0m \u001b[1;33m=\u001b[0m \u001b[0mops1\u001b[0m\u001b[1;33m[\u001b[0m\u001b[1;36m0\u001b[0m\u001b[1;33m]\u001b[0m\u001b[1;33m\u001b[0m\u001b[1;33m\u001b[0m\u001b[0m\n\u001b[0;32m    124\u001b[0m     \u001b[1;31m# try tiff readers\u001b[0m\u001b[1;33m\u001b[0m\u001b[1;33m\u001b[0m\u001b[1;33m\u001b[0m\u001b[0m\n",
      "\u001b[1;32me:\\users\\samsoon.inayat\\anaconda3\\envs\\suite2p\\lib\\site-packages\\suite2p\\io\\utils.py\u001b[0m in \u001b[0;36mfind_files_open_binaries\u001b[1;34m(ops1, ish5)\u001b[0m\n\u001b[0;32m    218\u001b[0m     \u001b[1;32melse\u001b[0m\u001b[1;33m:\u001b[0m\u001b[1;33m\u001b[0m\u001b[1;33m\u001b[0m\u001b[0m\n\u001b[0;32m    219\u001b[0m         \u001b[1;31m# find tiffs\u001b[0m\u001b[1;33m\u001b[0m\u001b[1;33m\u001b[0m\u001b[1;33m\u001b[0m\u001b[0m\n\u001b[1;32m--> 220\u001b[1;33m         \u001b[0mfs\u001b[0m\u001b[1;33m,\u001b[0m \u001b[0mops2\u001b[0m \u001b[1;33m=\u001b[0m \u001b[0mget_tif_list\u001b[0m\u001b[1;33m(\u001b[0m\u001b[0mops1\u001b[0m\u001b[1;33m[\u001b[0m\u001b[1;36m0\u001b[0m\u001b[1;33m]\u001b[0m\u001b[1;33m)\u001b[0m\u001b[1;33m\u001b[0m\u001b[1;33m\u001b[0m\u001b[0m\n\u001b[0m\u001b[0;32m    221\u001b[0m         \u001b[1;32mfor\u001b[0m \u001b[0mops\u001b[0m \u001b[1;32min\u001b[0m \u001b[0mops1\u001b[0m\u001b[1;33m:\u001b[0m\u001b[1;33m\u001b[0m\u001b[1;33m\u001b[0m\u001b[0m\n\u001b[0;32m    222\u001b[0m             \u001b[0mops\u001b[0m\u001b[1;33m[\u001b[0m\u001b[1;34m'first_tiffs'\u001b[0m\u001b[1;33m]\u001b[0m \u001b[1;33m=\u001b[0m \u001b[0mops2\u001b[0m\u001b[1;33m[\u001b[0m\u001b[1;34m'first_tiffs'\u001b[0m\u001b[1;33m]\u001b[0m\u001b[1;33m\u001b[0m\u001b[1;33m\u001b[0m\u001b[0m\n",
      "\u001b[1;32me:\\users\\samsoon.inayat\\anaconda3\\envs\\suite2p\\lib\\site-packages\\suite2p\\io\\utils.py\u001b[0m in \u001b[0;36mget_tif_list\u001b[1;34m(ops)\u001b[0m\n\u001b[0;32m    155\u001b[0m         \u001b[1;32mif\u001b[0m \u001b[0mlen\u001b[0m\u001b[1;33m(\u001b[0m\u001b[0mfsall\u001b[0m\u001b[1;33m)\u001b[0m\u001b[1;33m==\u001b[0m\u001b[1;36m0\u001b[0m\u001b[1;33m:\u001b[0m\u001b[1;33m\u001b[0m\u001b[1;33m\u001b[0m\u001b[0m\n\u001b[0;32m    156\u001b[0m             \u001b[0mprint\u001b[0m\u001b[1;33m(\u001b[0m\u001b[1;34m'Could not find any tiffs'\u001b[0m\u001b[1;33m)\u001b[0m\u001b[1;33m\u001b[0m\u001b[1;33m\u001b[0m\u001b[0m\n\u001b[1;32m--> 157\u001b[1;33m             \u001b[1;32mraise\u001b[0m \u001b[0mException\u001b[0m\u001b[1;33m(\u001b[0m\u001b[1;34m'no tiffs'\u001b[0m\u001b[1;33m)\u001b[0m\u001b[1;33m\u001b[0m\u001b[1;33m\u001b[0m\u001b[0m\n\u001b[0m\u001b[0;32m    158\u001b[0m         \u001b[1;32melse\u001b[0m\u001b[1;33m:\u001b[0m\u001b[1;33m\u001b[0m\u001b[1;33m\u001b[0m\u001b[0m\n\u001b[0;32m    159\u001b[0m             \u001b[0mops\u001b[0m\u001b[1;33m[\u001b[0m\u001b[1;34m'first_tiffs'\u001b[0m\u001b[1;33m]\u001b[0m \u001b[1;33m=\u001b[0m \u001b[0mnp\u001b[0m\u001b[1;33m.\u001b[0m\u001b[0marray\u001b[0m\u001b[1;33m(\u001b[0m\u001b[0mfirst_tiffs\u001b[0m\u001b[1;33m)\u001b[0m\u001b[1;33m.\u001b[0m\u001b[0mastype\u001b[0m\u001b[1;33m(\u001b[0m\u001b[0mnp\u001b[0m\u001b[1;33m.\u001b[0m\u001b[0mbool\u001b[0m\u001b[1;33m)\u001b[0m\u001b[1;33m\u001b[0m\u001b[1;33m\u001b[0m\u001b[0m\n",
      "\u001b[1;31mException\u001b[0m: no tiffs"
     ]
    }
   ],
   "source": [
    "for i in db:\n",
    "    comb_dir = '_'.join(str(x) for x in i['expts'])\n",
    "    tif_dir = os.path.join(i['tif_dir'], i['mouse_name'], i['date'], comb_dir)\n",
    "    results_dir = os.path.join(i['results_dir'], i['mouse_name'], i['date'], comb_dir)\n",
    "    \n",
    "    if not os.path.isdir(results_dir):\n",
    "        logging.info(f'Creating results directory {results_dir}')\n",
    "        os.makedirs(results_dir)\n",
    "    \n",
    "    if 'abf_dir' in i:\n",
    "        abf_dir = [ os.path.join(i['abf_dir'], i['mouse_name'], i['date'] + \"_\" + str(x) + \".abf\") for x in i['expts'] ]\n",
    "    else:\n",
    "        abf_dir = None\n",
    "    print(f'Running expt {i}')\n",
    "    print(f'Temp directory: {tif_dir}')\n",
    "    print(f'Results directory: {results_dir}')\n",
    "    i['in_dir'] = os.path.join(i['raw_dir'], i['mouse_name'], i['date'])\n",
    "    offset = 1\n",
    "    nframes = []\n",
    "    for j in i['expts']:\n",
    "        in_dir = os.path.join(i['in_dir'], str(j))\n",
    "        \n",
    "        xml_path = os.path.join(in_dir, \"Experiment.xml\")\n",
    "        logging.info(f'Parsing Experiment.xml in {xml_path}')\n",
    "        if os.path.exists(xml_path):\n",
    "            (x, y, fr, num_frames, num_planes) = parse_xml(xml_path)\n",
    "            nframes.append(num_frames)\n",
    "        else:\n",
    "            raise ValueError(f\"Experiment.xml does not exist at {xml_path}\")\n",
    "            \n",
    "    if run_mode == 'suite2p' or run_mode == 'all':\n",
    "        from run_suite2p import run_suite2p\n",
    "        ops = run_suite2p(i, results_dir, fr/num_planes, num_planes)\n",
    "    if run_mode == 'deconv' or run_mode == 'all':\n",
    "        from deconv import do_deconv\n",
    "        do_deconv(results_dir, num_planes/fr, nframes, i['expts'], abf_dir, nplanes=num_planes)"
   ]
  }
 ],
 "metadata": {
  "kernelspec": {
   "display_name": "Python 3",
   "language": "python",
   "name": "python3"
  },
  "language_info": {
   "codemirror_mode": {
    "name": "ipython",
    "version": 3
   },
   "file_extension": ".py",
   "mimetype": "text/x-python",
   "name": "python",
   "nbconvert_exporter": "python",
   "pygments_lexer": "ipython3",
   "version": "3.7.10"
  }
 },
 "nbformat": 4,
 "nbformat_minor": 4
}
