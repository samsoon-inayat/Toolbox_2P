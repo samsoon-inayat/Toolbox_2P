{
 "cells": [
  {
   "cell_type": "markdown",
   "metadata": {},
   "source": [
    "# Suite2p notebook\n",
    "This file is read only. Please make a copy in your home directory before modifying this file."
   ]
  },
  {
   "cell_type": "code",
   "execution_count": 2,
   "metadata": {},
   "outputs": [],
   "source": [
    "import sys\n",
    "sys.path.insert(1, './extras')\n",
    "\n",
    "from parse_xml import parse_xml\n",
    "from raw2h5 import raw2h5\n",
    "import logging\n",
    "import os\n",
    "import glob\n",
    "import argparse"
   ]
  },
  {
   "cell_type": "markdown",
   "metadata": {},
   "source": [
    "## Setup input\n",
    "Setting the ```run_mode``` variable will control which parts of the pipeline are run.\n",
    "- all: Run the entire pipeline\n",
    "- suite2p: Run only the registration/cell extraction part\n",
    "- deconv: Run the deconvolution algorithm from the MATLAB version of suite2p on the extracted cells\n",
    "\n",
    "Either insert the path to a file in the ```params_file``` variable, or fill your entries in the db variable below.\n",
    "Make sure your input/output paths are created before running this."
   ]
  },
  {
   "cell_type": "code",
   "execution_count": 6,
   "metadata": {},
   "outputs": [],
   "source": [
    "logging.basicConfig(format=\"%(asctime)s %(relativeCreated)12d [%(filename)s:%(funcName)15s():%(lineno)s] [%(process)d] %(message)s\", \n",
    "                    datefmt='%Y-%m-%d %H:%M:%S', level=logging.DEBUG)\n",
    "run_mode = 'all' # Use 'suite2p' to just run the registration/cell extraction, 'deconv' for just the deconvolution or 'all' for everything\n",
    "params_file = '' # Place path to params.py here if you want to use a separate file.\n",
    "if os.path.isfile(params_file):\n",
    "    with open(params_file) as f:\n",
    "        code = compile(f.read(), params_file, 'exec')\n",
    "        exec(code)\n",
    "else:\n",
    "    db = []\n",
    "    \n",
    "    db.append({\n",
    "        \"mouse_name\": \"183628\",\n",
    "        \"date\": \"2019-06-11\",\n",
    "        \"expts\": ['1_001'],\n",
    "        \"raw_dir\": \"//mohajerani-nas.uleth.ca/storage/homes/samsoon.inayat/Data/\",\n",
    "        \"tif_dir\": \"E:/Users/samsoon.inayat/S_Drive/Tif_Data/\",\n",
    "        \"results_dir\": \"E:/Users/samsoon.inayat/S_Drive/Processed_Data\",\n",
    "        \"ops\": {\n",
    "            'do_bidiphase': True,\n",
    "            'bidiphase': 1,\n",
    "            'bidi_corrected': True,\n",
    "            'sparse_mode': False,\n",
    "            'diameter': 15\n",
    "        }\n",
    "    })"
   ]
  },
  {
   "cell_type": "markdown",
   "metadata": {},
   "source": [
    "## Run the actual pipeline"
   ]
  },
  {
   "cell_type": "code",
   "execution_count": 10,
   "metadata": {
    "scrolled": true
   },
   "outputs": [
    {
     "name": "stderr",
     "output_type": "stream",
     "text": [
      "2021-02-11 23:00:59      6952304 [<ipython-input-10-364e49129f17>:       <module>():24] [1744] Parsing Experiment.xml in //mohajerani-nas.uleth.ca/storage/homes/samsoon.inayat/Data/183628\\2019-06-11\\1_001\\Experiment.xml\n"
     ]
    },
    {
     "name": "stdout",
     "output_type": "stream",
     "text": [
      "Running expt {'mouse_name': '183628', 'date': '2019-06-11', 'expts': ['1_001'], 'raw_dir': '//mohajerani-nas.uleth.ca/storage/homes/samsoon.inayat/Data/', 'tif_dir': 'E:/Users/samsoon.inayat/S_Drive/Tif_Data/', 'results_dir': 'E:/Users/samsoon.inayat/S_Drive/Processed_Data', 'ops': {'do_bidiphase': True, 'bidiphase': 1, 'bidi_corrected': True, 'sparse_mode': False, 'diameter': 15}, 'in_dir': '//mohajerani-nas.uleth.ca/storage/homes/samsoon.inayat/Data/183628\\\\2019-06-11'}\n",
      "Temp directory: E:/Users/samsoon.inayat/S_Drive/Tif_Data/183628\\2019-06-11\\1_001\n",
      "Results directory: E:/Users/samsoon.inayat/S_Drive/Processed_Data\\183628\\2019-06-11\\1_001\n",
      "{'suite2p_version': '0.9.3', 'look_one_level_down': True, 'fast_disk': [], 'delete_bin': False, 'mesoscan': False, 'bruker': False, 'h5py': [], 'h5py_key': 'data', 'save_path0': 'E:/Users/samsoon.inayat/S_Drive/Processed_Data\\\\183628\\\\2019-06-11\\\\1_001', 'save_folder': [], 'subfolders': [], 'move_bin': False, 'nplanes': 1, 'nchannels': 1, 'functional_chan': 1, 'tau': 1.0, 'fs': 29.16, 'force_sktiff': False, 'frames_include': -1, 'multiplane_parallel': False, 'preclassify': 0.0, 'save_mat': True, 'save_NWB': False, 'combined': True, 'aspect': 1.0, 'do_bidiphase': True, 'bidiphase': 1, 'bidi_corrected': True, 'do_registration': 1, 'two_step_registration': False, 'keep_movie_raw': False, 'nimg_init': 300, 'batch_size': 500, 'maxregshift': 0.1, 'align_by_chan': 1, 'reg_tif': False, 'reg_tif_chan2': False, 'subpixel': 10, 'smooth_sigma_time': 0, 'smooth_sigma': 1.15, 'th_badframes': 1.0, 'norm_frames': True, 'force_refImg': False, 'pad_fft': False, 'nonrigid': True, 'block_size': [128, 128], 'snr_thresh': 1.2, 'maxregshiftNR': 5, '1Preg': False, 'spatial_hp': 42, 'spatial_hp_reg': 42, 'spatial_hp_detect': 25, 'pre_smooth': 0, 'spatial_taper': 40, 'roidetect': True, 'spikedetect': True, 'anatomical_only': False, 'sparse_mode': False, 'diameter': 15, 'spatial_scale': 0, 'connected': True, 'nbinned': 5000, 'max_iterations': 20, 'threshold_scaling': 1.0, 'max_overlap': 0.75, 'high_pass': 100, 'use_builtin_classifier': False, 'neuropil_extract': True, 'inner_neuropil_radius': 2, 'min_neuropil_pixels': 350, 'allow_overlap': False, 'chan2_thres': 0.65, 'baseline': 'maximin', 'win_baseline': 60.0, 'sig_baseline': 10.0, 'prctile_baseline': 8.0, 'neucoeff': 0.7, 'data_path': '//mohajerani-nas.uleth.ca/storage/homes/samsoon.inayat/Data/183628\\\\2019-06-11', 'expts': ['1_001'], 'raw': True}\n",
      "{}\n",
      "FOUND BINARIES AND OPS IN ['E:/Users/samsoon.inayat/S_Drive/Processed_Data\\\\183628\\\\2019-06-11\\\\1_001\\\\suite2p\\\\plane0\\\\ops.npy']\n",
      ">>>>>>>>>>>>>>>>>>>>> PLANE 0 <<<<<<<<<<<<<<<<<<<<<<\n",
      "NOTE: not running registration, plane already registered\n",
      "NOTE: applying default E:\\Users\\samsoon.inayat\\.suite2p\\classifiers\\classifier_user.npy\n",
      "----------- ROI DETECTION\n",
      "Binning movie in chunks of length 29\n",
      "Binned movie [1326,482,480], 109.88 sec.\n",
      "ROIs: 200, cost: 1.1761, time: 62.6871\n",
      "ROIs: 348, cost: 0.8941, time: 96.4035\n",
      "ROIs: 408, cost: 0.8011, time: 120.4034\n",
      "ROIs: 420, cost: 0.7842, time: 138.8545\n",
      "ROIs: 420, cost: 0.9156, time: 150.6072\n",
      "ROIs: 420, cost: 0.7510, time: 168.5613\n",
      "ROIs: 420, cost: 0.7456, time: 180.2404\n",
      "Found 420 ROIs, 208.47 sec\n",
      "After removing overlaps, 408 ROIs remain\n",
      "Masks made in 13.12 sec.\n",
      "----------- Total 331.91 sec.\n",
      "----------- EXTRACTION\n",
      "Extracted fluorescence from 408 ROIs in 39152 frames, 149.24 sec.\n",
      "added enhanced mean image\n",
      "----------- Total 167.08 sec.\n",
      "----------- CLASSIFICATION\n",
      "['npix_norm', 'compact', 'skew']\n",
      "----------- Total 0.04 sec.\n",
      "----------- SPIKE DECONVOLUTION\n",
      "----------- Total 1.33 sec.\n"
     ]
    },
    {
     "name": "stderr",
     "output_type": "stream",
     "text": [
      "E:\\Users\\samsoon.inayat\\Anaconda3\\envs\\suite2p\\lib\\site-packages\\numpy\\core\\_asarray.py:136: VisibleDeprecationWarning: Creating an ndarray from ragged nested sequences (which is a list-or-tuple of lists-or-tuples-or ndarrays with different lengths or shapes) is deprecated. If you meant to do this, you must specify 'dtype=object' when creating the ndarray\n",
      "  return array(a, dtype, copy=False, order=order, subok=True)\n"
     ]
    },
    {
     "name": "stdout",
     "output_type": "stream",
     "text": [
      "Plane 0 processed in 503.99 sec (can open in GUI).\n",
      "total = 504.84 sec.\n",
      "TOTAL RUNTIME 504.84 sec\n"
     ]
    },
    {
     "ename": "AttributeError",
     "evalue": "type object 'skimage.transform._hough_transform.array' has no attribute '__reduce_cython__'",
     "output_type": "error",
     "traceback": [
      "\u001b[1;31m---------------------------------------------------------------------------\u001b[0m",
      "\u001b[1;31mAttributeError\u001b[0m                            Traceback (most recent call last)",
      "\u001b[1;32m<ipython-input-10-364e49129f17>\u001b[0m in \u001b[0;36m<module>\u001b[1;34m\u001b[0m\n\u001b[0;32m     33\u001b[0m         \u001b[0mops\u001b[0m \u001b[1;33m=\u001b[0m \u001b[0mrun_suite2p\u001b[0m\u001b[1;33m(\u001b[0m\u001b[0mi\u001b[0m\u001b[1;33m,\u001b[0m \u001b[0mresults_dir\u001b[0m\u001b[1;33m,\u001b[0m \u001b[0mfr\u001b[0m\u001b[1;33m/\u001b[0m\u001b[0mnum_planes\u001b[0m\u001b[1;33m,\u001b[0m \u001b[0mnum_planes\u001b[0m\u001b[1;33m)\u001b[0m\u001b[1;33m\u001b[0m\u001b[1;33m\u001b[0m\u001b[0m\n\u001b[0;32m     34\u001b[0m     \u001b[1;32mif\u001b[0m \u001b[0mrun_mode\u001b[0m \u001b[1;33m==\u001b[0m \u001b[1;34m'deconv'\u001b[0m \u001b[1;32mor\u001b[0m \u001b[0mrun_mode\u001b[0m \u001b[1;33m==\u001b[0m \u001b[1;34m'all'\u001b[0m\u001b[1;33m:\u001b[0m\u001b[1;33m\u001b[0m\u001b[1;33m\u001b[0m\u001b[0m\n\u001b[1;32m---> 35\u001b[1;33m         \u001b[1;32mfrom\u001b[0m \u001b[0mdeconv\u001b[0m \u001b[1;32mimport\u001b[0m \u001b[0mdo_deconv\u001b[0m\u001b[1;33m\u001b[0m\u001b[1;33m\u001b[0m\u001b[0m\n\u001b[0m\u001b[0;32m     36\u001b[0m         \u001b[0mdo_deconv\u001b[0m\u001b[1;33m(\u001b[0m\u001b[0mresults_dir\u001b[0m\u001b[1;33m,\u001b[0m \u001b[0mnum_planes\u001b[0m\u001b[1;33m/\u001b[0m\u001b[0mfr\u001b[0m\u001b[1;33m,\u001b[0m \u001b[0mnframes\u001b[0m\u001b[1;33m,\u001b[0m \u001b[0mi\u001b[0m\u001b[1;33m[\u001b[0m\u001b[1;34m'expts'\u001b[0m\u001b[1;33m]\u001b[0m\u001b[1;33m,\u001b[0m \u001b[0mabf_dir\u001b[0m\u001b[1;33m,\u001b[0m \u001b[0mnplanes\u001b[0m\u001b[1;33m=\u001b[0m\u001b[0mnum_planes\u001b[0m\u001b[1;33m)\u001b[0m\u001b[1;33m\u001b[0m\u001b[1;33m\u001b[0m\u001b[0m\n",
      "\u001b[1;32m~\\T_Drive\\GitHub\\Toolbox_2P\\Suite2P_Wrapper\\deconv.py\u001b[0m in \u001b[0;36m<module>\u001b[1;34m\u001b[0m\n\u001b[0;32m      8\u001b[0m \u001b[1;32mimport\u001b[0m \u001b[0mscipy\u001b[0m\u001b[1;33m.\u001b[0m\u001b[0mndimage\u001b[0m\u001b[1;33m.\u001b[0m\u001b[0mmorphology\u001b[0m \u001b[1;32mas\u001b[0m \u001b[0mndimage\u001b[0m\u001b[1;33m\u001b[0m\u001b[1;33m\u001b[0m\u001b[0m\n\u001b[0;32m      9\u001b[0m \u001b[1;32mimport\u001b[0m \u001b[0mscipy\u001b[0m\u001b[1;33m.\u001b[0m\u001b[0msignal\u001b[0m \u001b[1;32mas\u001b[0m \u001b[0msignal\u001b[0m\u001b[1;33m\u001b[0m\u001b[1;33m\u001b[0m\u001b[0m\n\u001b[1;32m---> 10\u001b[1;33m \u001b[1;32mimport\u001b[0m \u001b[0mcaiman\u001b[0m\u001b[1;33m.\u001b[0m\u001b[0msource_extraction\u001b[0m\u001b[1;33m.\u001b[0m\u001b[0mcnmf\u001b[0m\u001b[1;33m.\u001b[0m\u001b[0mdeconvolution\u001b[0m \u001b[1;32mas\u001b[0m \u001b[0mdeconv\u001b[0m\u001b[1;33m\u001b[0m\u001b[1;33m\u001b[0m\u001b[0m\n\u001b[0m\u001b[0;32m     11\u001b[0m \u001b[1;31m#import sima.spikes as deconv\u001b[0m\u001b[1;33m\u001b[0m\u001b[1;33m\u001b[0m\u001b[1;33m\u001b[0m\u001b[0m\n\u001b[0;32m     12\u001b[0m \u001b[1;31m#import constrained_foopsi as deconv\u001b[0m\u001b[1;33m\u001b[0m\u001b[1;33m\u001b[0m\u001b[1;33m\u001b[0m\u001b[0m\n",
      "\u001b[1;32m~\\Anaconda3\\envs\\suite2p\\lib\\site-packages\\caiman\\__init__.py\u001b[0m in \u001b[0;36m<module>\u001b[1;34m\u001b[0m\n\u001b[0;32m      2\u001b[0m \u001b[1;33m\u001b[0m\u001b[0m\n\u001b[0;32m      3\u001b[0m \u001b[1;32mimport\u001b[0m \u001b[0mpkg_resources\u001b[0m\u001b[1;33m\u001b[0m\u001b[1;33m\u001b[0m\u001b[0m\n\u001b[1;32m----> 4\u001b[1;33m \u001b[1;32mfrom\u001b[0m \u001b[1;33m.\u001b[0m\u001b[0mbase\u001b[0m\u001b[1;33m.\u001b[0m\u001b[0mmovies\u001b[0m \u001b[1;32mimport\u001b[0m \u001b[0mmovie\u001b[0m\u001b[1;33m,\u001b[0m \u001b[0mload\u001b[0m\u001b[1;33m,\u001b[0m \u001b[0mload_movie_chain\u001b[0m\u001b[1;33m\u001b[0m\u001b[1;33m\u001b[0m\u001b[0m\n\u001b[0m\u001b[0;32m      5\u001b[0m \u001b[1;32mfrom\u001b[0m \u001b[1;33m.\u001b[0m\u001b[0mbase\u001b[0m\u001b[1;33m.\u001b[0m\u001b[0mtimeseries\u001b[0m \u001b[1;32mimport\u001b[0m \u001b[0mconcatenate\u001b[0m\u001b[1;33m\u001b[0m\u001b[1;33m\u001b[0m\u001b[0m\n\u001b[0;32m      6\u001b[0m \u001b[1;32mfrom\u001b[0m \u001b[1;33m.\u001b[0m\u001b[0mcluster\u001b[0m \u001b[1;32mimport\u001b[0m \u001b[0mstart_server\u001b[0m\u001b[1;33m,\u001b[0m \u001b[0mstop_server\u001b[0m\u001b[1;33m\u001b[0m\u001b[1;33m\u001b[0m\u001b[0m\n",
      "\u001b[1;32m~\\Anaconda3\\envs\\suite2p\\lib\\site-packages\\caiman\\base\\movies.py\u001b[0m in \u001b[0;36m<module>\u001b[1;34m\u001b[0m\n\u001b[0;32m     28\u001b[0m \u001b[1;32mimport\u001b[0m \u001b[0mscipy\u001b[0m\u001b[1;33m\u001b[0m\u001b[1;33m\u001b[0m\u001b[0m\n\u001b[0;32m     29\u001b[0m \u001b[1;32mfrom\u001b[0m \u001b[0mscipy\u001b[0m\u001b[1;33m.\u001b[0m\u001b[0mio\u001b[0m \u001b[1;32mimport\u001b[0m \u001b[0mloadmat\u001b[0m\u001b[1;33m\u001b[0m\u001b[1;33m\u001b[0m\u001b[0m\n\u001b[1;32m---> 30\u001b[1;33m \u001b[1;32mfrom\u001b[0m \u001b[0mskimage\u001b[0m\u001b[1;33m.\u001b[0m\u001b[0mtransform\u001b[0m \u001b[1;32mimport\u001b[0m \u001b[0mwarp\u001b[0m\u001b[1;33m,\u001b[0m \u001b[0mAffineTransform\u001b[0m\u001b[1;33m\u001b[0m\u001b[1;33m\u001b[0m\u001b[0m\n\u001b[0m\u001b[0;32m     31\u001b[0m \u001b[1;32mfrom\u001b[0m \u001b[0mskimage\u001b[0m\u001b[1;33m.\u001b[0m\u001b[0mfeature\u001b[0m \u001b[1;32mimport\u001b[0m \u001b[0mmatch_template\u001b[0m\u001b[1;33m\u001b[0m\u001b[1;33m\u001b[0m\u001b[0m\n\u001b[0;32m     32\u001b[0m \u001b[1;32mimport\u001b[0m \u001b[0msklearn\u001b[0m\u001b[1;33m\u001b[0m\u001b[1;33m\u001b[0m\u001b[0m\n",
      "\u001b[1;32m~\\Anaconda3\\envs\\suite2p\\lib\\site-packages\\skimage\\transform\\__init__.py\u001b[0m in \u001b[0;36m<module>\u001b[1;34m\u001b[0m\n\u001b[0;32m      1\u001b[0m \u001b[1;32mfrom\u001b[0m \u001b[1;33m.\u001b[0m\u001b[0mhistogram_matching\u001b[0m \u001b[1;32mimport\u001b[0m \u001b[0mmatch_histograms\u001b[0m\u001b[1;33m\u001b[0m\u001b[1;33m\u001b[0m\u001b[0m\n\u001b[1;32m----> 2\u001b[1;33m from .hough_transform import (hough_line, hough_line_peaks,\n\u001b[0m\u001b[0;32m      3\u001b[0m                               \u001b[0mprobabilistic_hough_line\u001b[0m\u001b[1;33m,\u001b[0m \u001b[0mhough_circle\u001b[0m\u001b[1;33m,\u001b[0m\u001b[1;33m\u001b[0m\u001b[1;33m\u001b[0m\u001b[0m\n\u001b[0;32m      4\u001b[0m                               hough_circle_peaks, hough_ellipse)\n\u001b[0;32m      5\u001b[0m from .radon_transform import (radon, iradon, iradon_sart,\n",
      "\u001b[1;32m~\\Anaconda3\\envs\\suite2p\\lib\\site-packages\\skimage\\transform\\hough_transform.py\u001b[0m in \u001b[0;36m<module>\u001b[1;34m\u001b[0m\n\u001b[0;32m      1\u001b[0m \u001b[1;32mimport\u001b[0m \u001b[0mnumpy\u001b[0m \u001b[1;32mas\u001b[0m \u001b[0mnp\u001b[0m\u001b[1;33m\u001b[0m\u001b[1;33m\u001b[0m\u001b[0m\n\u001b[1;32m----> 2\u001b[1;33m from ._hough_transform import (_hough_circle,\n\u001b[0m\u001b[0;32m      3\u001b[0m                                \u001b[0m_hough_ellipse\u001b[0m\u001b[1;33m,\u001b[0m\u001b[1;33m\u001b[0m\u001b[1;33m\u001b[0m\u001b[0m\n\u001b[0;32m      4\u001b[0m                                \u001b[0m_hough_line\u001b[0m\u001b[1;33m,\u001b[0m\u001b[1;33m\u001b[0m\u001b[1;33m\u001b[0m\u001b[0m\n\u001b[0;32m      5\u001b[0m                                _probabilistic_hough_line as _prob_hough_line)\n",
      "\u001b[1;32m~\\Anaconda3\\envs\\suite2p\\lib\\site-packages\\skimage\\transform\\_hough_transform.cp37-win_amd64.pyd\u001b[0m in \u001b[0;36minit skimage.transform._hough_transform\u001b[1;34m()\u001b[0m\n",
      "\u001b[1;31mAttributeError\u001b[0m: type object 'skimage.transform._hough_transform.array' has no attribute '__reduce_cython__'"
     ]
    }
   ],
   "source": [
    "for i in db:\n",
    "    comb_dir = '_'.join(str(x) for x in i['expts'])\n",
    "    tif_dir = os.path.join(i['tif_dir'], i['mouse_name'], i['date'], comb_dir)\n",
    "    results_dir = os.path.join(i['results_dir'], i['mouse_name'], i['date'], comb_dir)\n",
    "    \n",
    "    if not os.path.isdir(results_dir):\n",
    "        logging.info(f'Creating results directory {results_dir}')\n",
    "        os.makedirs(results_dir)\n",
    "    \n",
    "    if 'abf_dir' in i:\n",
    "        abf_dir = [ os.path.join(i['abf_dir'], i['mouse_name'], i['date'] + \"_\" + str(x) + \".abf\") for x in i['expts'] ]\n",
    "    else:\n",
    "        abf_dir = None\n",
    "    print(f'Running expt {i}')\n",
    "    print(f'Temp directory: {tif_dir}')\n",
    "    print(f'Results directory: {results_dir}')\n",
    "    i['in_dir'] = os.path.join(i['raw_dir'], i['mouse_name'], i['date'])\n",
    "    offset = 1\n",
    "    nframes = []\n",
    "    for j in i['expts']:\n",
    "        in_dir = os.path.join(i['in_dir'], str(j))\n",
    "        \n",
    "        xml_path = os.path.join(in_dir, \"Experiment.xml\")\n",
    "        logging.info(f'Parsing Experiment.xml in {xml_path}')\n",
    "        if os.path.exists(xml_path):\n",
    "            (x, y, fr, num_frames, num_planes) = parse_xml(xml_path)\n",
    "            nframes.append(num_frames)\n",
    "        else:\n",
    "            raise ValueError(f\"Experiment.xml does not exist at {xml_path}\")\n",
    "            \n",
    "    if run_mode == 'suite2p' or run_mode == 'all':\n",
    "        from run_suite2p import run_suite2p\n",
    "        ops = run_suite2p(i, results_dir, fr/num_planes, num_planes)\n",
    "    if run_mode == 'deconv' or run_mode == 'all':\n",
    "        from deconv import do_deconv\n",
    "        do_deconv(results_dir, num_planes/fr, nframes, i['expts'], abf_dir, nplanes=num_planes)"
   ]
  }
 ],
 "metadata": {
  "kernelspec": {
   "display_name": "Python 3",
   "language": "python",
   "name": "python3"
  },
  "language_info": {
   "codemirror_mode": {
    "name": "ipython",
    "version": 3
   },
   "file_extension": ".py",
   "mimetype": "text/x-python",
   "name": "python",
   "nbconvert_exporter": "python",
   "pygments_lexer": "ipython3",
   "version": "3.7.9"
  }
 },
 "nbformat": 4,
 "nbformat_minor": 4
}
