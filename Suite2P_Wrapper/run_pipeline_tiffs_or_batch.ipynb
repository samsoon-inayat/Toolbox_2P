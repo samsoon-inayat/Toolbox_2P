{
 "cells": [
  {
   "cell_type": "code",
   "execution_count": 1,
   "metadata": {},
   "outputs": [],
   "source": [
    "import numpy as np\n",
    "# import sys\n",
    "import os\n",
    "import scipy.io\n",
    "# option to import from github folder\n",
    "# sys.path.insert(0, 'E:/Users/samsoon.inayat/T_Drive/GitHub/Downloaded/suite2p/')\n",
    "# from suite2p import run_s2p\n",
    "import suite2p\n",
    "import Thor_Experiment\n",
    "from suite2p import run_s2p, default_ops\n",
    "import shutil"
   ]
  },
  {
   "cell_type": "code",
   "execution_count": 2,
   "metadata": {},
   "outputs": [],
   "source": [
    "# set your options for running\n",
    "ops = default_ops() # populates ops with the default options\n",
    "# print(ops)"
   ]
  },
  {
   "cell_type": "code",
   "execution_count": 3,
   "metadata": {},
   "outputs": [],
   "source": [
    "# tif data folder where tif files will be extracted from raw data\n",
    "tif_data_folder = 'E:/Users/samsoon.inayat/S_Drive/Tif_Data'\n",
    "# processed_data_folder where the results of suite 2p will be stored\n",
    "#processed_data_folder = 'E:/Users/samsoon.inayat/OneDrive - University of Lethbridge/pySuite2P/processed_data'\n",
    "processed_data_folder = 'E:/Users/samsoon.inayat/S_Drive/Processed_Data'\n",
    "nas_processed_data_folder = 'Z:/homes/brendan.mcallister/2P/Processed_Data_1'"
   ]
  },
  {
   "cell_type": "code",
   "execution_count": 4,
   "metadata": {},
   "outputs": [],
   "source": [
    "filename = 'recording_list.txt'\n",
    "f = open(filename,'r')\n",
    "dir_names = []\n",
    "for drs in f:\n",
    "    temp = drs[:-1]\n",
    "    tempp = temp.replace(os.sep,os.altsep)\n",
    "    dir_names.append(tempp)\n",
    "f.close()"
   ]
  },
  {
   "cell_type": "code",
   "execution_count": 5,
   "metadata": {},
   "outputs": [
    {
     "name": "stdout",
     "output_type": "stream",
     "text": [
      "['//mohajerani-nas.uleth.ca/storage/homes/samsoon.inayat/Data/183633/2019-06-04/1_001', '//mohajerani-nas.uleth.ca/storage/homes/samsoon.inayat/Data/183761/2019-06-06/1_002', '//mohajerani-nas.uleth.ca/storage/homes/samsoon.inayat/Data/183745/2019-06-07/1_001', '//mohajerani-nas.uleth.ca/storage/homes/samsoon.inayat/Data/183628/2019-06-11/1_001', '//mohajerani-nas.uleth.ca/storage/homes/samsoon.inayat/Data/183762/2019-06-11/1_001']\n"
     ]
    }
   ],
   "source": [
    "print(dir_names)"
   ]
  },
  {
   "cell_type": "code",
   "execution_count": null,
   "metadata": {},
   "outputs": [],
   "source": [
    "for x in dir_names:\n",
    "    print(x)\n",
    "    dir_name = x\n",
    "    te = Thor_Experiment.Thor_Exp(dir_name,processed_data_folder,tif_data_folder,nas_processed_data_folder)\n",
    "    data_processing_status = 0\n",
    "    for root, dirs, files in os.walk(te.nas_pd_dir):\n",
    "        for name in files:\n",
    "            if name.endswith((\"Fall.mat\")):\n",
    "                data_processing_status = 1\n",
    "                break\n",
    "    if data_processing_status == 1:\n",
    "        continue\n",
    "#    if te.exp_params.get('zFastEnable') == '1':\n",
    "#        continue\n",
    "#     ops = default_ops()\n",
    "#        print(ops)\n",
    "    ops.update({'nplanes':te.exp_params.get('nplanes')})\n",
    "    ops.update({'save_path0':te.pd_dir})\n",
    "    ops.update({'fs':float(te.exp_params.get('frameRate'))})\n",
    "    ops.update({'save_mat':True})\n",
    "    mat = scipy.io.loadmat(te.nas_pd_dir + '/bidishift.mat')\n",
    "    bidishift = mat['bidishift'];\n",
    "#    print(bidishift[0][0])\n",
    "#    break\n",
    "    ops.update({'do_bidiphase':True})\n",
    "    ops.update({'bidiphase':bidishift[0][0]})\n",
    "    ops.update({'roidetect':True})\n",
    "    ops.update({'do_registration':1})\n",
    "    ops.update({'tau':1.5})\n",
    "    print(ops)\n",
    "    db = {\n",
    "            'h5py': [], # a single h5 file path\n",
    "            'h5py_key': 'data',\n",
    "            'data_path': [te.tif_dir_name], # a list of folders with tiffs\n",
    "                                         # (or folder of folders with tiffs if look_one_level_down is True, or subfolders is not empty)\n",
    "            }\n",
    "    np.save('ops.npy', ops)\n",
    "    np.save('db.npy', db)\n",
    "#     subprocess.call(['python','-u','-W','ignore','-m','suite2p','--ops', 'ops.npy','--db', 'db.npy'],shell=True)\n",
    "#    break\n",
    "    opsEnd = run_s2p(ops = ops,db = db)\n",
    "    if os.path.exists(te.tif_dir_name):\n",
    "        shutil.rmtree(te.tif_dir_name)\n",
    "    else:\n",
    "        print('tif folder already removed')\n",
    "    del(te)"
   ]
  }
 ],
 "metadata": {
  "kernelspec": {
   "display_name": "Python 3",
   "language": "python",
   "name": "python3"
  },
  "language_info": {
   "codemirror_mode": {
    "name": "ipython",
    "version": 3
   },
   "file_extension": ".py",
   "mimetype": "text/x-python",
   "name": "python",
   "nbconvert_exporter": "python",
   "pygments_lexer": "ipython3",
   "version": "3.7.9"
  }
 },
 "nbformat": 4,
 "nbformat_minor": 4
}
